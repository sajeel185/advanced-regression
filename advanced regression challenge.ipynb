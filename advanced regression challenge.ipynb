{
 "cells": [
  {
   "cell_type": "code",
   "execution_count": 27,
   "metadata": {},
   "outputs": [],
   "source": [
    "import math\n",
    "import warnings\n",
    "\n",
    "from IPython.display import display\n",
    "from matplotlib import pyplot as plt\n",
    "%matplotlib inline\n",
    "\n",
    "import numpy as np\n",
    "import pandas as pd\n",
    "import seaborn as sns\n",
    "from sklearn import linear_model\n",
    "import statsmodels.formula.api as smf\n",
    "import re\n",
    "from sklearn.model_selection import train_test_split\n",
    "from sklearn.linear_model import LogisticRegression\n",
    "from sklearn.feature_selection import SelectKBest\n",
    "from sklearn.feature_selection import chi2\n",
    "from sklearn.feature_selection import SelectPercentile, f_classif\n",
    "from sklearn.preprocessing import StandardScaler\n",
    "from sklearn.decomposition import PCA\n",
    "from sklearn.model_selection import cross_val_score\n",
    "\n",
    "\n",
    "\n",
    "#from sklearn.naive_bayes import BernoulliNB\n",
    "#bnb = BernoulliNB()"
   ]
  },
  {
   "cell_type": "code",
   "execution_count": 28,
   "metadata": {
    "scrolled": true
   },
   "outputs": [],
   "source": [
    "df = pd.read_csv('newyork_crime2013.csv')\n",
    "df = df.drop_duplicates()\n",
    "df = df.fillna(0)\n",
    "\n",
    "#print(df.head())\n",
    "#print(df.shape)"
   ]
  },
  {
   "cell_type": "code",
   "execution_count": 29,
   "metadata": {},
   "outputs": [
    {
     "name": "stdout",
     "output_type": "stream",
     "text": [
      "                       City Population Violent\\ncrime  \\\n",
      "0             Adams Village       1861              0   \n",
      "1  Addison Town and Village       2577              3   \n",
      "2             Akron Village       2846              3   \n",
      "3                    Albany      97956            791   \n",
      "4            Albion Village       6388             23   \n",
      "\n",
      "   Murder and\\nnonnegligent\\nmanslaughter  Rape\\n(revised\\ndefinition)1  \\\n",
      "0                                       0                           0.0   \n",
      "1                                       0                           0.0   \n",
      "2                                       0                           0.0   \n",
      "3                                       8                           0.0   \n",
      "4                                       0                           0.0   \n",
      "\n",
      "  Rape\\n(legacy\\ndefinition)2 Robbery Aggravated\\nassault Property\\ncrime  \\\n",
      "0                           0       0                   0              12   \n",
      "1                           0       0                   3              24   \n",
      "2                           0       0                   3              16   \n",
      "3                          30     227                 526            4090   \n",
      "4                           3       4                  16             223   \n",
      "\n",
      "  Burglary      ...       Arson3  PopSquared  IndicateMurder  IndicateRobbery  \\\n",
      "0        2      ...          0.0     3463321               0                0   \n",
      "1        3      ...          0.0     6640929               0                0   \n",
      "2        1      ...          0.0     8099716               0                0   \n",
      "3      705      ...          0.0  9595377936               1                1   \n",
      "4       53      ...          0.0    40806544               0                1   \n",
      "\n",
      "   IndicateLarceny  IndicateAggravatedAssault  IndicateRape  IndicateBurglary  \\\n",
      "0                1                          0             0                 1   \n",
      "1                1                          1             1                 1   \n",
      "2                1                          1             1                 1   \n",
      "3                1                          1             1                 1   \n",
      "4                1                          1             1                 1   \n",
      "\n",
      "   IndicateGTA  IndicateArson  \n",
      "0            0              0  \n",
      "1            1              0  \n",
      "2            0              0  \n",
      "3            1              0  \n",
      "4            1              0  \n",
      "\n",
      "[5 rows x 22 columns]\n"
     ]
    }
   ],
   "source": [
    "#Feature Engineering\n",
    "\n",
    "df['Population'] = df['Population'].str.replace(',','')\n",
    "pop_numeric = pd.to_numeric(df['Population'])\n",
    "df['PopSquared'] = pop_numeric ** 2\n",
    "\n",
    "#print(df['PopSquared'])\n",
    "\n",
    "df['IndicateMurder'] = np.where(df['Murder and\\nnonnegligent\\nmanslaughter'] > 0, 1, 0)\n",
    "r_numeric = pd.to_numeric(df['Robbery'], errors='coerce').fillna(0)\n",
    "df['IndicateRobbery'] = np.where(r_numeric > 0, 1, 0)\n",
    "\n",
    "df['Larceny-\\ntheft'] = df['Larceny-\\ntheft'].str.replace(',','')\n",
    "larceny_numeric = pd.to_numeric(df['Larceny-\\ntheft'])\n",
    "df['IndicateLarceny'] = np.where(larceny_numeric > 0, 1, 0)\n",
    "\n",
    "df['Aggravated\\nassault'] = df['Aggravated\\nassault'].str.replace(',','')\n",
    "agg_assault_numeric = pd.to_numeric(df['Aggravated\\nassault'])\n",
    "df['IndicateAggravatedAssault'] = np.where(agg_assault_numeric > 0, 1, 0)\n",
    "\n",
    "df['Robbery'] = df['Robbery'].str.replace(',','')\n",
    "Robbery_numeric = pd.to_numeric(df['Robbery'])\n",
    "df['IndicateRobbery'] = np.where(Robbery_numeric > 0, 1, 0)\n",
    "\n",
    "df['Rape\\n(legacy\\ndefinition)2'] = df['Rape\\n(legacy\\ndefinition)2'].str.replace(',','')\n",
    "Rape_numeric = pd.to_numeric(df['Rape\\n(legacy\\ndefinition)2'])\n",
    "df['IndicateRape'] = np.where(Rape_numeric > 0, 1, 0)\n",
    "\n",
    "df['Violent\\ncrime'] = df['Violent\\ncrime'].str.replace(',','')\n",
    "vcrime_numeric = pd.to_numeric(df['Violent\\ncrime'])\n",
    "df['IndicateRape'] = np.where(vcrime_numeric > 0, 1, 0)\n",
    "\n",
    "df['Burglary'] = df['Burglary'].str.replace(',','')\n",
    "burglary_numeric = pd.to_numeric(df['Burglary'])\n",
    "df['IndicateBurglary'] = np.where(burglary_numeric > 0, 1, 0)\n",
    "\n",
    "df['Motor\\nvehicle\\ntheft'] = df['Motor\\nvehicle\\ntheft'].str.replace(',','')\n",
    "gta_numeric = pd.to_numeric(df['Motor\\nvehicle\\ntheft'])\n",
    "df['IndicateGTA'] = np.where(gta_numeric > 0, 1, 0)\n",
    "\n",
    "df['IndicateArson'] = df['Arson3'].astype(int)\n",
    "\n",
    "df['Property\\ncrime'] = df['Property\\ncrime'].str.replace(',','')\n",
    "pd.to_numeric(df['Property\\ncrime'])\n",
    "\n",
    "\n",
    "\n",
    "\n",
    "print(df.head())"
   ]
  },
  {
   "cell_type": "code",
   "execution_count": 30,
   "metadata": {},
   "outputs": [
    {
     "name": "stdout",
     "output_type": "stream",
     "text": [
      "AxesSubplot(0.125,0.125;0.62x0.755)\n"
     ]
    },
    {
     "data": {
      "image/png": "[encoded data removed]",
      "text/plain": [
       "<Figure size 432x288 with 2 Axes>"
      ]
     },
     "metadata": {
      "needs_background": "light"
     },
     "output_type": "display_data"
    }
   ],
   "source": [
    "df_heat = sns.heatmap(df.corr(), vmin=-1, vmax=1)\n",
    "\n",
    "print(df_heat)"
   ]
  },
  {
   "cell_type": "code",
   "execution_count": 31,
   "metadata": {},
   "outputs": [
    {
     "name": "stdout",
     "output_type": "stream",
     "text": [
      "(348, 19)\n",
      "(348,)\n"
     ]
    }
   ],
   "source": [
    "#Splitting our data\n",
    "\n",
    "X = df.drop(['Murder and\\nnonnegligent\\nmanslaughter', 'IndicateMurder', 'City'], 1)\n",
    "Y = df['IndicateMurder']\n",
    "print(X.shape)\n",
    "print(Y.shape)"
   ]
  },
  {
   "cell_type": "markdown",
   "metadata": {},
   "source": [
    "## SelectKbest:"
   ]
  },
  {
   "cell_type": "code",
   "execution_count": 32,
   "metadata": {},
   "outputs": [
    {
     "name": "stderr",
     "output_type": "stream",
     "text": [
      "C:\\Users\\PV-R68G\\Anaconda3\\lib\\site-packages\\sklearn\\feature_selection\\univariate_selection.py:113: UserWarning: Features [2] are constant.\n",
      "  UserWarning)\n",
      "C:\\Users\\PV-R68G\\Anaconda3\\lib\\site-packages\\sklearn\\feature_selection\\univariate_selection.py:114: RuntimeWarning: invalid value encountered in true_divide\n",
      "  f = msb / msw\n",
      "C:\\Users\\PV-R68G\\Anaconda3\\lib\\site-packages\\sklearn\\feature_selection\\univariate_selection.py:113: UserWarning: Features [2] are constant.\n",
      "  UserWarning)\n",
      "C:\\Users\\PV-R68G\\Anaconda3\\lib\\site-packages\\sklearn\\feature_selection\\univariate_selection.py:114: RuntimeWarning: invalid value encountered in true_divide\n",
      "  f = msb / msw\n",
      "C:\\Users\\PV-R68G\\Anaconda3\\lib\\site-packages\\sklearn\\feature_selection\\univariate_selection.py:113: UserWarning: Features [2] are constant.\n",
      "  UserWarning)\n",
      "C:\\Users\\PV-R68G\\Anaconda3\\lib\\site-packages\\sklearn\\feature_selection\\univariate_selection.py:114: RuntimeWarning: invalid value encountered in true_divide\n",
      "  f = msb / msw\n",
      "C:\\Users\\PV-R68G\\Anaconda3\\lib\\site-packages\\sklearn\\feature_selection\\univariate_selection.py:113: UserWarning: Features [2] are constant.\n",
      "  UserWarning)\n",
      "C:\\Users\\PV-R68G\\Anaconda3\\lib\\site-packages\\sklearn\\feature_selection\\univariate_selection.py:114: RuntimeWarning: invalid value encountered in true_divide\n",
      "  f = msb / msw\n",
      "C:\\Users\\PV-R68G\\Anaconda3\\lib\\site-packages\\sklearn\\feature_selection\\univariate_selection.py:113: UserWarning: Features [2] are constant.\n",
      "  UserWarning)\n",
      "C:\\Users\\PV-R68G\\Anaconda3\\lib\\site-packages\\sklearn\\feature_selection\\univariate_selection.py:114: RuntimeWarning: invalid value encountered in true_divide\n",
      "  f = msb / msw\n",
      "C:\\Users\\PV-R68G\\Anaconda3\\lib\\site-packages\\sklearn\\feature_selection\\univariate_selection.py:113: UserWarning: Features [2] are constant.\n",
      "  UserWarning)\n",
      "C:\\Users\\PV-R68G\\Anaconda3\\lib\\site-packages\\sklearn\\feature_selection\\univariate_selection.py:114: RuntimeWarning: invalid value encountered in true_divide\n",
      "  f = msb / msw\n",
      "C:\\Users\\PV-R68G\\Anaconda3\\lib\\site-packages\\sklearn\\feature_selection\\univariate_selection.py:113: UserWarning: Features [2] are constant.\n",
      "  UserWarning)\n",
      "C:\\Users\\PV-R68G\\Anaconda3\\lib\\site-packages\\sklearn\\feature_selection\\univariate_selection.py:114: RuntimeWarning: invalid value encountered in true_divide\n",
      "  f = msb / msw\n",
      "C:\\Users\\PV-R68G\\Anaconda3\\lib\\site-packages\\sklearn\\feature_selection\\univariate_selection.py:113: UserWarning: Features [2] are constant.\n",
      "  UserWarning)\n",
      "C:\\Users\\PV-R68G\\Anaconda3\\lib\\site-packages\\sklearn\\feature_selection\\univariate_selection.py:114: RuntimeWarning: invalid value encountered in true_divide\n",
      "  f = msb / msw\n",
      "C:\\Users\\PV-R68G\\Anaconda3\\lib\\site-packages\\sklearn\\feature_selection\\univariate_selection.py:113: UserWarning: Features [2] are constant.\n",
      "  UserWarning)\n",
      "C:\\Users\\PV-R68G\\Anaconda3\\lib\\site-packages\\sklearn\\feature_selection\\univariate_selection.py:114: RuntimeWarning: invalid value encountered in true_divide\n",
      "  f = msb / msw\n",
      "C:\\Users\\PV-R68G\\Anaconda3\\lib\\site-packages\\sklearn\\feature_selection\\univariate_selection.py:113: UserWarning: Features [2] are constant.\n",
      "  UserWarning)\n",
      "C:\\Users\\PV-R68G\\Anaconda3\\lib\\site-packages\\sklearn\\feature_selection\\univariate_selection.py:114: RuntimeWarning: invalid value encountered in true_divide\n",
      "  f = msb / msw\n",
      "C:\\Users\\PV-R68G\\Anaconda3\\lib\\site-packages\\sklearn\\feature_selection\\univariate_selection.py:113: UserWarning: Features [2] are constant.\n",
      "  UserWarning)\n",
      "C:\\Users\\PV-R68G\\Anaconda3\\lib\\site-packages\\sklearn\\feature_selection\\univariate_selection.py:114: RuntimeWarning: invalid value encountered in true_divide\n",
      "  f = msb / msw\n",
      "C:\\Users\\PV-R68G\\Anaconda3\\lib\\site-packages\\sklearn\\feature_selection\\univariate_selection.py:113: UserWarning: Features [2] are constant.\n",
      "  UserWarning)\n",
      "C:\\Users\\PV-R68G\\Anaconda3\\lib\\site-packages\\sklearn\\feature_selection\\univariate_selection.py:114: RuntimeWarning: invalid value encountered in true_divide\n",
      "  f = msb / msw\n",
      "C:\\Users\\PV-R68G\\Anaconda3\\lib\\site-packages\\sklearn\\feature_selection\\univariate_selection.py:113: UserWarning: Features [2] are constant.\n",
      "  UserWarning)\n",
      "C:\\Users\\PV-R68G\\Anaconda3\\lib\\site-packages\\sklearn\\feature_selection\\univariate_selection.py:114: RuntimeWarning: invalid value encountered in true_divide\n",
      "  f = msb / msw\n",
      "C:\\Users\\PV-R68G\\Anaconda3\\lib\\site-packages\\sklearn\\feature_selection\\univariate_selection.py:113: UserWarning: Features [2] are constant.\n",
      "  UserWarning)\n",
      "C:\\Users\\PV-R68G\\Anaconda3\\lib\\site-packages\\sklearn\\feature_selection\\univariate_selection.py:114: RuntimeWarning: invalid value encountered in true_divide\n",
      "  f = msb / msw\n",
      "C:\\Users\\PV-R68G\\Anaconda3\\lib\\site-packages\\sklearn\\feature_selection\\univariate_selection.py:113: UserWarning: Features [2] are constant.\n",
      "  UserWarning)\n",
      "C:\\Users\\PV-R68G\\Anaconda3\\lib\\site-packages\\sklearn\\feature_selection\\univariate_selection.py:114: RuntimeWarning: invalid value encountered in true_divide\n",
      "  f = msb / msw\n",
      "C:\\Users\\PV-R68G\\Anaconda3\\lib\\site-packages\\sklearn\\feature_selection\\univariate_selection.py:113: UserWarning: Features [2] are constant.\n",
      "  UserWarning)\n",
      "C:\\Users\\PV-R68G\\Anaconda3\\lib\\site-packages\\sklearn\\feature_selection\\univariate_selection.py:114: RuntimeWarning: invalid value encountered in true_divide\n",
      "  f = msb / msw\n",
      "C:\\Users\\PV-R68G\\Anaconda3\\lib\\site-packages\\sklearn\\feature_selection\\univariate_selection.py:113: UserWarning: Features [2] are constant.\n",
      "  UserWarning)\n",
      "C:\\Users\\PV-R68G\\Anaconda3\\lib\\site-packages\\sklearn\\feature_selection\\univariate_selection.py:114: RuntimeWarning: invalid value encountered in true_divide\n",
      "  f = msb / msw\n",
      "C:\\Users\\PV-R68G\\Anaconda3\\lib\\site-packages\\sklearn\\feature_selection\\univariate_selection.py:113: UserWarning: Features [2] are constant.\n",
      "  UserWarning)\n",
      "C:\\Users\\PV-R68G\\Anaconda3\\lib\\site-packages\\sklearn\\feature_selection\\univariate_selection.py:114: RuntimeWarning: invalid value encountered in true_divide\n",
      "  f = msb / msw\n",
      "C:\\Users\\PV-R68G\\Anaconda3\\lib\\site-packages\\sklearn\\feature_selection\\univariate_selection.py:113: UserWarning: Features [2] are constant.\n",
      "  UserWarning)\n",
      "C:\\Users\\PV-R68G\\Anaconda3\\lib\\site-packages\\sklearn\\feature_selection\\univariate_selection.py:114: RuntimeWarning: invalid value encountered in true_divide\n",
      "  f = msb / msw\n"
     ]
    },
    {
     "data": {
      "image/png": "[encoded data removed]",
      "text/plain": [
       "<Figure size 432x288 with 1 Axes>"
      ]
     },
     "metadata": {
      "needs_background": "light"
     },
     "output_type": "display_data"
    }
   ],
   "source": [
    "#Selecting the best value for K\n",
    "\n",
    "k_range = range(1,20)\n",
    "k_scores = []\n",
    "for kvar in k_range:\n",
    "    skb_var = SelectKBest(f_classif, k=kvar).fit_transform(X, Y)\n",
    "    logregr = LogisticRegression(C=1e9)\n",
    "    scores = cross_val_score(logregr, skb_var, Y, cv=10)\n",
    "    k_scores.append(scores.mean())\n",
    "    \n",
    "plt.plot(k_range, k_scores)\n",
    "plt.xlabel('Value of K')\n",
    "plt.ylabel('Cross-validated accuracy')\n",
    "plt.show()"
   ]
  },
  {
   "cell_type": "markdown",
   "metadata": {},
   "source": [
    "#### From the above graph, we see that the highest accuracy score occurs when the value of our parameter K in selectKbest is equal to 15.\n"
   ]
  },
  {
   "cell_type": "code",
   "execution_count": 33,
   "metadata": {},
   "outputs": [
    {
     "name": "stderr",
     "output_type": "stream",
     "text": [
      "C:\\Users\\PV-R68G\\Anaconda3\\lib\\site-packages\\sklearn\\feature_selection\\univariate_selection.py:113: UserWarning: Features [2] are constant.\n",
      "  UserWarning)\n",
      "C:\\Users\\PV-R68G\\Anaconda3\\lib\\site-packages\\sklearn\\feature_selection\\univariate_selection.py:114: RuntimeWarning: invalid value encountered in true_divide\n",
      "  f = msb / msw\n"
     ]
    }
   ],
   "source": [
    "# Using selectKbest to reduce our features.\n",
    "skb_df = SelectKBest(f_classif, k=15).fit_transform(X, Y)\n"
   ]
  },
  {
   "cell_type": "code",
   "execution_count": 34,
   "metadata": {},
   "outputs": [
    {
     "name": "stdout",
     "output_type": "stream",
     "text": [
      "(278, 15)\n",
      "(278,)\n",
      "(70, 15)\n",
      "(70,)\n",
      "<class 'numpy.ndarray'>\n",
      "<class 'numpy.ndarray'>\n"
     ]
    }
   ],
   "source": [
    "#After applying selectKbest, I split the data into train and test groups.\n",
    "\n",
    "train_X, test_X, train_Y, test_Y = train_test_split(skb_df, Y, test_size=.2, random_state=20)\n",
    "print(train_X.shape)\n",
    "print(train_Y.shape)\n",
    "print(test_X.shape)\n",
    "print(test_Y.shape)\n",
    "print(type(train_X))\n",
    "print(type(test_X))"
   ]
  },
  {
   "cell_type": "markdown",
   "metadata": {},
   "source": [
    "## PCA:"
   ]
  },
  {
   "cell_type": "code",
   "execution_count": 35,
   "metadata": {},
   "outputs": [],
   "source": [
    "# Normalize the data so that all variables have a mean of 0 and standard deviation\n",
    "# o\n",
    "\n",
    "\n",
    "X_norm = StandardScaler().fit_transform(X)"
   ]
  },
  {
   "cell_type": "code",
   "execution_count": 36,
   "metadata": {},
   "outputs": [
    {
     "name": "stdout",
     "output_type": "stream",
     "text": [
      "6\n",
      "[0.55349031 0.1697093  0.11022691 0.05677215 0.04237035 0.02994976]\n"
     ]
    }
   ],
   "source": [
    "#Apply PCA\n",
    "\n",
    "pca = PCA(.95)\n",
    "pca_X = pca.fit_transform(X_norm)\n",
    "\n",
    "comp_no = pca.n_components_\n",
    "comp_var_ratio = pca.explained_variance_ratio_\n",
    "\n",
    "print(comp_no)\n",
    "print(comp_var_ratio)\n",
    "#print(p_components)"
   ]
  },
  {
   "cell_type": "code",
   "execution_count": 37,
   "metadata": {},
   "outputs": [
    {
     "name": "stdout",
     "output_type": "stream",
     "text": [
      "(348, 6)\n"
     ]
    }
   ],
   "source": [
    "pca_df = pd.DataFrame(data=pca_X)\n",
    "#print(pca_df.head())\n",
    "print(pca_df.shape)"
   ]
  },
  {
   "cell_type": "code",
   "execution_count": 38,
   "metadata": {},
   "outputs": [
    {
     "name": "stdout",
     "output_type": "stream",
     "text": [
      "(348, 6)\n"
     ]
    }
   ],
   "source": [
    "#After applying PCA, I split the data into train and test groups.\n",
    "\n",
    "train_X_pca, test_X_pca, train_Y_pca, test_Y_pca = train_test_split(pca_X, Y, test_size=.2, random_state=20)\n",
    "\n",
    "print(pca_X.shape)\n"
   ]
  },
  {
   "cell_type": "markdown",
   "metadata": {},
   "source": [
    "## Logistic Regression using selectKbest:"
   ]
  },
  {
   "cell_type": "code",
   "execution_count": 39,
   "metadata": {},
   "outputs": [
    {
     "name": "stdout",
     "output_type": "stream",
     "text": [
      "Coefficients\n",
      "[[ 1.06934401e-05  6.78864195e+00 -6.77756922e+00 -6.79504005e+00\n",
      "  -6.77534606e+00  2.22424269e-03  3.32742102e-05 -2.38216576e-03\n",
      "   4.57313424e-03 -7.28902320e-02  1.17273637e+00  3.35734682e-01\n",
      "  -9.17342121e-01  3.00320536e-01 -7.28902320e-02]]\n"
     ]
    },
    {
     "data": {
      "image/png": "[encoded data removed]",
      "text/plain": [
       "<Figure size 432x288 with 1 Axes>"
      ]
     },
     "metadata": {
      "needs_background": "light"
     },
     "output_type": "display_data"
    },
    {
     "name": "stdout",
     "output_type": "stream",
     "text": [
      "\n",
      "[-5.69932865]\n",
      "\n",
      " Percentage accuracy\n",
      "1.0\n"
     ]
    }
   ],
   "source": [
    "# Declare a logistic regression classifier.\n",
    "# Parameter regularization coefficient C described above.\n",
    "logregr = LogisticRegression(C=1e9)\n",
    "\n",
    "\n",
    "# Fit the model.\n",
    "fit = logregr.fit(train_X, train_Y)\n",
    "\n",
    "# Display.\n",
    "print('Coefficients')\n",
    "print(fit.coef_)\n",
    "plt.hist(fit.coef_, bins=5)\n",
    "plt.xlabel('Coefficient Value')\n",
    "plt.show()\n",
    "print()\n",
    "print(fit.intercept_)\n",
    "#pred_y = logregr.predict(test_X)\n",
    "#print(pred_y.shape)\n",
    "#print('\\n Accuracy by admission status')\n",
    "#print(pd.crosstab(pred_y, test_Y))\n",
    "\n",
    "print('\\n Percentage accuracy')\n",
    "print(logregr.score(test_X, test_Y))"
   ]
  },
  {
   "cell_type": "markdown",
   "metadata": {},
   "source": [
    "## Logistic Regression using PCA:"
   ]
  },
  {
   "cell_type": "code",
   "execution_count": 40,
   "metadata": {},
   "outputs": [
    {
     "name": "stdout",
     "output_type": "stream",
     "text": [
      "Coefficients\n",
      "[[ 8.96969289 -3.60176561 -1.27309423  0.11372595  1.83461919  0.0334954 ]]\n"
     ]
    },
    {
     "data": {
      "image/png": "[encoded data removed]",
      "text/plain": [
       "<Figure size 432x288 with 1 Axes>"
      ]
     },
     "metadata": {
      "needs_background": "light"
     },
     "output_type": "display_data"
    },
    {
     "name": "stdout",
     "output_type": "stream",
     "text": [
      "[-3.8467803]\n",
      "\n",
      " Percentage accuracy\n",
      "0.9428571428571428\n"
     ]
    }
   ],
   "source": [
    "# Declare a logistic regression classifier.\n",
    "# Parameter regularization coefficient C described above.\n",
    "logregr_pca = LogisticRegression(C=1e9)\n",
    "\n",
    "\n",
    "# Fit the model.\n",
    "logregr_pca.fit(train_X_pca, train_Y_pca)\n",
    "\n",
    "# Display.\n",
    "print('Coefficients')\n",
    "print(logregr_pca.coef_)\n",
    "plt.hist(logregr_pca.coef_, bins=5)\n",
    "plt.xlabel('Coefficient Value')\n",
    "plt.show()\n",
    "print(logregr_pca.intercept_)\n",
    "#pred_y_pca = logregr.predict(test_X_pca)\n",
    "#print(pred_y.shape)\n",
    "#print('\\n Accuracy by admission status')\n",
    "#print(pd.crosstab(pred_y_pca, test_Y_pca))\n",
    "\n",
    "print('\\n Percentage accuracy')\n",
    "print(logregr_pca.score(test_X_pca, test_Y_pca))"
   ]
  },
  {
   "cell_type": "markdown",
   "metadata": {},
   "source": [
    "#### Using PCA, instead of seleckbest, for feature selection allowed my logistic regression model to have a much better accuracy score of 91%"
   ]
  },
  {
   "cell_type": "markdown",
   "metadata": {},
   "source": [
    "# Ridge Logistic Regression:"
   ]
  },
  {
   "cell_type": "code",
   "execution_count": 41,
   "metadata": {},
   "outputs": [
    {
     "name": "stdout",
     "output_type": "stream",
     "text": [
      "(348, 19)\n",
      "(348,)\n"
     ]
    }
   ],
   "source": [
    "X_pcrime = df.drop(['Property\\ncrime', 'City'], 1)\n",
    "Y_pcrime = df['Property\\ncrime']\n",
    "print(X.shape)\n",
    "print(Y.shape)"
   ]
  },
  {
   "cell_type": "markdown",
   "metadata": {},
   "source": [
    "## SelectKbest - second model:"
   ]
  },
  {
   "cell_type": "code",
   "execution_count": 42,
   "metadata": {},
   "outputs": [
    {
     "name": "stderr",
     "output_type": "stream",
     "text": [
      "C:\\Users\\PV-R68G\\Anaconda3\\lib\\site-packages\\sklearn\\feature_selection\\univariate_selection.py:113: UserWarning: Features [3] are constant.\n",
      "  UserWarning)\n",
      "C:\\Users\\PV-R68G\\Anaconda3\\lib\\site-packages\\sklearn\\feature_selection\\univariate_selection.py:114: RuntimeWarning: invalid value encountered in true_divide\n",
      "  f = msb / msw\n",
      "C:\\Users\\PV-R68G\\Anaconda3\\lib\\site-packages\\sklearn\\feature_selection\\univariate_selection.py:113: UserWarning: Features [3] are constant.\n",
      "  UserWarning)\n",
      "C:\\Users\\PV-R68G\\Anaconda3\\lib\\site-packages\\sklearn\\feature_selection\\univariate_selection.py:114: RuntimeWarning: invalid value encountered in true_divide\n",
      "  f = msb / msw\n",
      "C:\\Users\\PV-R68G\\Anaconda3\\lib\\site-packages\\sklearn\\feature_selection\\univariate_selection.py:113: UserWarning: Features [3] are constant.\n",
      "  UserWarning)\n",
      "C:\\Users\\PV-R68G\\Anaconda3\\lib\\site-packages\\sklearn\\feature_selection\\univariate_selection.py:114: RuntimeWarning: invalid value encountered in true_divide\n",
      "  f = msb / msw\n",
      "C:\\Users\\PV-R68G\\Anaconda3\\lib\\site-packages\\sklearn\\feature_selection\\univariate_selection.py:113: UserWarning: Features [3] are constant.\n",
      "  UserWarning)\n",
      "C:\\Users\\PV-R68G\\Anaconda3\\lib\\site-packages\\sklearn\\feature_selection\\univariate_selection.py:114: RuntimeWarning: invalid value encountered in true_divide\n",
      "  f = msb / msw\n",
      "C:\\Users\\PV-R68G\\Anaconda3\\lib\\site-packages\\sklearn\\feature_selection\\univariate_selection.py:113: UserWarning: Features [3] are constant.\n",
      "  UserWarning)\n",
      "C:\\Users\\PV-R68G\\Anaconda3\\lib\\site-packages\\sklearn\\feature_selection\\univariate_selection.py:114: RuntimeWarning: invalid value encountered in true_divide\n",
      "  f = msb / msw\n",
      "C:\\Users\\PV-R68G\\Anaconda3\\lib\\site-packages\\sklearn\\feature_selection\\univariate_selection.py:113: UserWarning: Features [3] are constant.\n",
      "  UserWarning)\n",
      "C:\\Users\\PV-R68G\\Anaconda3\\lib\\site-packages\\sklearn\\feature_selection\\univariate_selection.py:114: RuntimeWarning: invalid value encountered in true_divide\n",
      "  f = msb / msw\n",
      "C:\\Users\\PV-R68G\\Anaconda3\\lib\\site-packages\\sklearn\\feature_selection\\univariate_selection.py:113: UserWarning: Features [3] are constant.\n",
      "  UserWarning)\n",
      "C:\\Users\\PV-R68G\\Anaconda3\\lib\\site-packages\\sklearn\\feature_selection\\univariate_selection.py:114: RuntimeWarning: invalid value encountered in true_divide\n",
      "  f = msb / msw\n",
      "C:\\Users\\PV-R68G\\Anaconda3\\lib\\site-packages\\sklearn\\feature_selection\\univariate_selection.py:113: UserWarning: Features [3] are constant.\n",
      "  UserWarning)\n",
      "C:\\Users\\PV-R68G\\Anaconda3\\lib\\site-packages\\sklearn\\feature_selection\\univariate_selection.py:114: RuntimeWarning: invalid value encountered in true_divide\n",
      "  f = msb / msw\n",
      "C:\\Users\\PV-R68G\\Anaconda3\\lib\\site-packages\\sklearn\\feature_selection\\univariate_selection.py:113: UserWarning: Features [3] are constant.\n",
      "  UserWarning)\n",
      "C:\\Users\\PV-R68G\\Anaconda3\\lib\\site-packages\\sklearn\\feature_selection\\univariate_selection.py:114: RuntimeWarning: invalid value encountered in true_divide\n",
      "  f = msb / msw\n",
      "C:\\Users\\PV-R68G\\Anaconda3\\lib\\site-packages\\sklearn\\feature_selection\\univariate_selection.py:113: UserWarning: Features [3] are constant.\n",
      "  UserWarning)\n",
      "C:\\Users\\PV-R68G\\Anaconda3\\lib\\site-packages\\sklearn\\feature_selection\\univariate_selection.py:114: RuntimeWarning: invalid value encountered in true_divide\n",
      "  f = msb / msw\n",
      "C:\\Users\\PV-R68G\\Anaconda3\\lib\\site-packages\\sklearn\\feature_selection\\univariate_selection.py:113: UserWarning: Features [3] are constant.\n",
      "  UserWarning)\n",
      "C:\\Users\\PV-R68G\\Anaconda3\\lib\\site-packages\\sklearn\\feature_selection\\univariate_selection.py:114: RuntimeWarning: invalid value encountered in true_divide\n",
      "  f = msb / msw\n",
      "C:\\Users\\PV-R68G\\Anaconda3\\lib\\site-packages\\sklearn\\feature_selection\\univariate_selection.py:113: UserWarning: Features [3] are constant.\n",
      "  UserWarning)\n",
      "C:\\Users\\PV-R68G\\Anaconda3\\lib\\site-packages\\sklearn\\feature_selection\\univariate_selection.py:114: RuntimeWarning: invalid value encountered in true_divide\n",
      "  f = msb / msw\n",
      "C:\\Users\\PV-R68G\\Anaconda3\\lib\\site-packages\\sklearn\\feature_selection\\univariate_selection.py:113: UserWarning: Features [3] are constant.\n",
      "  UserWarning)\n",
      "C:\\Users\\PV-R68G\\Anaconda3\\lib\\site-packages\\sklearn\\feature_selection\\univariate_selection.py:114: RuntimeWarning: invalid value encountered in true_divide\n",
      "  f = msb / msw\n",
      "C:\\Users\\PV-R68G\\Anaconda3\\lib\\site-packages\\sklearn\\feature_selection\\univariate_selection.py:113: UserWarning: Features [3] are constant.\n",
      "  UserWarning)\n",
      "C:\\Users\\PV-R68G\\Anaconda3\\lib\\site-packages\\sklearn\\feature_selection\\univariate_selection.py:114: RuntimeWarning: invalid value encountered in true_divide\n",
      "  f = msb / msw\n",
      "C:\\Users\\PV-R68G\\Anaconda3\\lib\\site-packages\\sklearn\\feature_selection\\univariate_selection.py:113: UserWarning: Features [3] are constant.\n",
      "  UserWarning)\n",
      "C:\\Users\\PV-R68G\\Anaconda3\\lib\\site-packages\\sklearn\\feature_selection\\univariate_selection.py:114: RuntimeWarning: invalid value encountered in true_divide\n",
      "  f = msb / msw\n",
      "C:\\Users\\PV-R68G\\Anaconda3\\lib\\site-packages\\sklearn\\feature_selection\\univariate_selection.py:113: UserWarning: Features [3] are constant.\n",
      "  UserWarning)\n",
      "C:\\Users\\PV-R68G\\Anaconda3\\lib\\site-packages\\sklearn\\feature_selection\\univariate_selection.py:114: RuntimeWarning: invalid value encountered in true_divide\n",
      "  f = msb / msw\n",
      "C:\\Users\\PV-R68G\\Anaconda3\\lib\\site-packages\\sklearn\\feature_selection\\univariate_selection.py:113: UserWarning: Features [3] are constant.\n",
      "  UserWarning)\n",
      "C:\\Users\\PV-R68G\\Anaconda3\\lib\\site-packages\\sklearn\\feature_selection\\univariate_selection.py:114: RuntimeWarning: invalid value encountered in true_divide\n",
      "  f = msb / msw\n",
      "C:\\Users\\PV-R68G\\Anaconda3\\lib\\site-packages\\sklearn\\feature_selection\\univariate_selection.py:113: UserWarning: Features [3] are constant.\n",
      "  UserWarning)\n",
      "C:\\Users\\PV-R68G\\Anaconda3\\lib\\site-packages\\sklearn\\feature_selection\\univariate_selection.py:114: RuntimeWarning: invalid value encountered in true_divide\n",
      "  f = msb / msw\n",
      "C:\\Users\\PV-R68G\\Anaconda3\\lib\\site-packages\\sklearn\\feature_selection\\univariate_selection.py:113: UserWarning: Features [3] are constant.\n",
      "  UserWarning)\n",
      "C:\\Users\\PV-R68G\\Anaconda3\\lib\\site-packages\\sklearn\\feature_selection\\univariate_selection.py:114: RuntimeWarning: invalid value encountered in true_divide\n",
      "  f = msb / msw\n"
     ]
    },
    {
     "data": {
      "image/png": "[encoded data removed]",
      "text/plain": [
       "<Figure size 432x288 with 1 Axes>"
      ]
     },
     "metadata": {
      "needs_background": "light"
     },
     "output_type": "display_data"
    }
   ],
   "source": [
    "k_range2 = range(1,20)\n",
    "k_scores2 = []\n",
    "for kvar in k_range2:\n",
    "    skb_var2 = SelectKBest(f_classif, k=kvar).fit_transform(X_pcrime, Y_pcrime)\n",
    "    logregr2 = LogisticRegression(penalty='l2', C=10)\n",
    "    scores = cross_val_score(logregr2, skb_var2, Y, cv=10)\n",
    "    k_scores2.append(scores.mean())\n",
    "    \n",
    "plt.plot(k_range, k_scores)\n",
    "plt.xlabel('Value of K')\n",
    "plt.ylabel('Cross-validated accuracy')\n",
    "plt.show()"
   ]
  },
  {
   "cell_type": "markdown",
   "metadata": {},
   "source": [
    "#### The optimum value for k in selectKbest is 15."
   ]
  },
  {
   "cell_type": "code",
   "execution_count": 43,
   "metadata": {},
   "outputs": [
    {
     "name": "stderr",
     "output_type": "stream",
     "text": [
      "C:\\Users\\PV-R68G\\Anaconda3\\lib\\site-packages\\sklearn\\feature_selection\\univariate_selection.py:113: UserWarning: Features [3] are constant.\n",
      "  UserWarning)\n",
      "C:\\Users\\PV-R68G\\Anaconda3\\lib\\site-packages\\sklearn\\feature_selection\\univariate_selection.py:114: RuntimeWarning: invalid value encountered in true_divide\n",
      "  f = msb / msw\n"
     ]
    }
   ],
   "source": [
    "# Using selectKbest to reduce our features.\n",
    "LR_skb_df = SelectKBest(f_classif, k=15).fit_transform(X_pcrime, Y_pcrime)"
   ]
  },
  {
   "cell_type": "code",
   "execution_count": 44,
   "metadata": {},
   "outputs": [],
   "source": [
    "#After applying selectKbest, I split the data into train and test groups.\n",
    "\n",
    "train_XLR, test_XLR, train_YLR, test_YLR = train_test_split(LR_skb_df, Y_pcrime, test_size=.2, random_state=20)"
   ]
  },
  {
   "cell_type": "markdown",
   "metadata": {},
   "source": [
    "## PCA - second model:"
   ]
  },
  {
   "cell_type": "code",
   "execution_count": 45,
   "metadata": {},
   "outputs": [],
   "source": [
    "# Normalize the data so that all variables have a mean of 0 and standard deviation\n",
    "# o\n",
    "\n",
    "\n",
    "XLR_norm = StandardScaler().fit_transform(X_pcrime)"
   ]
  },
  {
   "cell_type": "code",
   "execution_count": 46,
   "metadata": {},
   "outputs": [],
   "source": [
    "#Apply PCA\n",
    "\n",
    "pcaLR = PCA(.95)\n",
    "pca_XLR = pca.fit_transform(XLR_norm)\n",
    "\n",
    "#comp_no_LR = pcaLR.n_components_\n",
    "#comp_var_ratioLR = pcaLR.explained_variance_ratio_\n",
    "\n",
    "#print(comp_no_LR)\n",
    "#print(comp_var_ratioLR)\n",
    "#print(p_components)"
   ]
  },
  {
   "cell_type": "code",
   "execution_count": 47,
   "metadata": {},
   "outputs": [
    {
     "name": "stdout",
     "output_type": "stream",
     "text": [
      "(348, 7)\n"
     ]
    }
   ],
   "source": [
    "pca_df_LR = pd.DataFrame(data=pca_XLR)\n",
    "#print(pca_df_LR.head())\n",
    "print(pca_df_LR.shape)"
   ]
  },
  {
   "cell_type": "code",
   "execution_count": 48,
   "metadata": {},
   "outputs": [
    {
     "name": "stdout",
     "output_type": "stream",
     "text": [
      "(348, 7)\n"
     ]
    }
   ],
   "source": [
    "#After applying PCA, I split the data into train and test groups.\n",
    "\n",
    "train_X_pcaLR, test_X_pcaLR, train_Y_pcaLR, test_Y_pcaLR = train_test_split(pca_XLR, Y_pcrime, test_size=.2, random_state=20)\n",
    "\n",
    "print(pca_XLR.shape)\n"
   ]
  },
  {
   "cell_type": "markdown",
   "metadata": {},
   "source": [
    "## L2 regularization after selectKBest:"
   ]
  },
  {
   "cell_type": "code",
   "execution_count": 49,
   "metadata": {},
   "outputs": [
    {
     "name": "stdout",
     "output_type": "stream",
     "text": [
      "Coefficients\n",
      "[[-7.29447921e-10 -1.21028740e-12 -1.43736872e-16 ... -9.34101897e-14\n",
      "  -1.21930242e-12 -3.50247689e-14]\n",
      " [-3.79516318e-10 -4.55802901e-13 -1.53147295e-16 ... -4.68877297e-14\n",
      "  -2.53333568e-13 -1.37316542e-14]\n",
      " [-4.86693876e-10 -5.60066857e-13 -1.45586980e-16 ... -7.33478311e-14\n",
      "  -2.97573766e-13 -2.38960863e-14]\n",
      " ...\n",
      " [-5.07735469e-04  4.95580346e-07  2.81813236e-08 ... -5.64055471e-08\n",
      "  -1.73082055e-07 -1.28865102e-08]\n",
      " [-5.47789649e-04 -6.95761819e-07 -6.94940611e-10 ... -6.66612071e-08\n",
      "  -2.88525792e-07 -1.77477377e-08]\n",
      " [-4.64050473e-08 -4.81012199e-11 -1.68851887e-14 ... -4.75444286e-12\n",
      "  -2.60500598e-11 -1.52541879e-12]]\n"
     ]
    },
    {
     "data": {
      "image/png": "[encoded data removed]",
      "text/plain": [
       "<Figure size 432x288 with 1 Axes>"
      ]
     },
     "metadata": {
      "needs_background": "light"
     },
     "output_type": "display_data"
    },
    {
     "name": "stdout",
     "output_type": "stream",
     "text": [
      "\n",
      "Intercept\n",
      "[-6.12089868e-13 -2.67357456e-13 -3.89838984e-13 -4.17792925e-07\n",
      " -6.13913836e-13 -1.42667097e-07 -2.28844642e-07 -6.54979644e-11\n",
      " -3.53876597e-11 -3.46725755e-07 -1.16371889e-13 -5.21015363e-07\n",
      " -3.53265310e-11 -1.68936765e-07 -6.98679655e-11 -5.34354555e-14\n",
      " -1.61767907e-10 -2.61101749e-13 -1.36962807e-13 -1.57934017e-10\n",
      " -3.66293678e-07 -2.62192928e-07 -1.76659473e-07 -1.10009519e-13\n",
      " -5.24271839e-13 -1.93130213e-07 -4.92957300e-07 -2.85876304e-13\n",
      " -7.60535365e-11 -6.95092612e-11 -5.47443321e-13 -5.16153948e-13\n",
      " -2.90459321e-07 -3.43040834e-07 -5.00336526e-07 -8.62736743e-08\n",
      " -1.08912237e-12 -2.73352900e-13 -1.51348093e-07 -3.35162231e-13\n",
      " -2.65699112e-13 -1.51471633e-10 -1.30184455e-07 -1.35126382e-13\n",
      " -6.61799875e-07 -9.58230354e-09 -1.32100440e-13 -6.08608063e-13\n",
      " -1.32100440e-13 -4.57109854e-14 -1.72270528e-14 -6.56601273e-11\n",
      " -3.83489377e-12 -2.69396567e-13 -5.98582644e-13 -6.69609118e-13\n",
      " -5.04582424e-13 -3.30947761e-07 -6.06911117e-07 -3.68702286e-07\n",
      " -6.36268889e-13 -3.04157040e-13 -1.30299314e-13 -3.26357990e-13\n",
      " -3.19068102e-13 -2.29761075e-07 -2.02254068e-07 -1.77602279e-07\n",
      " -8.28083020e-13 -6.07373162e-13 -2.68205616e-07 -5.80737169e-13\n",
      " -1.41391282e-07 -1.01351433e-12 -1.32062667e-13 -6.05317247e-13\n",
      " -5.57733450e-13 -7.99836884e-11 -2.75618711e-07 -2.95183325e-13\n",
      " -3.64153715e-07 -2.88798042e-13 -9.59576021e-09 -1.09090889e-07\n",
      " -2.43721287e-07 -1.15517132e-06 -5.04284398e-13 -1.18651232e-13\n",
      " -2.55248071e-07 -2.84443577e-07 -1.33920923e-13 -1.15190908e-13\n",
      " -1.71560128e-07 -1.20958712e-12 -2.74211235e-07 -3.53038258e-07\n",
      " -2.02137810e-07 -6.03919533e-11 -1.60870490e-10 -1.15191082e-12\n",
      " -1.26017881e-12 -2.00776714e-12 -3.75449122e-07 -7.28517750e-11\n",
      " -3.30055305e-07 -2.88010785e-07 -4.94090098e-07 -4.16914690e-09\n",
      " -2.06172159e-07 -2.24341782e-13 -2.66647868e-13 -1.41699458e-13\n",
      " -2.08513242e-07 -2.53243354e-07 -2.11129641e-07 -3.61182629e-07\n",
      " -2.86670225e-13 -4.87062785e-13 -4.86939988e-07 -7.62320201e-11\n",
      " -5.36864039e-13 -2.63310270e-13 -3.49456241e-11 -4.71209245e-07\n",
      " -1.63266253e-12 -2.69255243e-07 -3.12968802e-07 -4.42890399e-07\n",
      " -1.23391440e-07 -4.83059290e-13 -1.09088213e-13 -3.48158643e-11\n",
      " -1.20528800e-13 -3.36790414e-11 -1.00231704e-12 -1.84484032e-07\n",
      " -5.91396046e-13 -3.06827815e-13 -3.68280062e-07 -2.69790117e-13\n",
      " -2.48379211e-07 -3.75548552e-07 -6.62418849e-11 -1.76932917e-12\n",
      " -1.21212404e-12 -1.15316212e-13 -5.86569045e-07 -5.75138083e-13\n",
      " -1.11090001e-13 -2.18439591e-07 -4.32382344e-07 -1.79003168e-07\n",
      " -1.26323938e-12 -3.61916178e-07 -3.28287663e-07 -1.79008494e-07\n",
      " -4.60794819e-14 -2.08502869e-07 -3.30754849e-11 -2.72717701e-07\n",
      " -4.91545416e-14 -2.51695357e-07 -1.39565505e-13 -1.03428536e-12\n",
      " -4.58566168e-07 -9.60820082e-13 -3.72729752e-07 -3.40230896e-07\n",
      " -1.68044739e-10 -2.11831301e-12 -2.64856785e-07 -3.35036423e-07\n",
      " -2.74253219e-11 -3.18889204e-07 -1.29238059e-12 -3.00654245e-07\n",
      " -5.10658100e-07 -1.35836984e-12 -1.07248836e-12 -1.72095890e-14\n",
      " -4.80843048e-07 -2.14909384e-07 -4.32926462e-13 -2.70161449e-07\n",
      " -3.52351655e-07 -1.45178638e-13 -2.72168775e-07 -6.56754170e-13\n",
      " -5.73324934e-13 -3.65821707e-07 -8.22217769e-11 -3.16686114e-13\n",
      " -8.18224353e-11 -3.38152167e-07 -5.45653329e-13 -1.29790843e-12\n",
      " -2.45585668e-07 -2.77290311e-13 -1.52464145e-07 -2.41716441e-13\n",
      " -2.75958587e-07 -1.81052424e-07 -3.09939419e-07 -2.82081719e-11]\n",
      "\n",
      " Percentage accuracy\n",
      "0.0\n"
     ]
    }
   ],
   "source": [
    "# Declare a logistic regression classifier.\n",
    "# Parameter regularization coefficient C described above. l2 stands for ridge regression regularization. The higher the \n",
    "# C value, the lower the lambda for ridge regression.  In the plain vanilla logistic regression above, our C value was 1e9,\n",
    "# or 1 billion.  Here C will be 10, which will result in a higher lambda value.\n",
    "logregr_L2 = LogisticRegression(penalty='l2', C=10)\n",
    "\n",
    "\n",
    "# Fit the model.\n",
    "logregr_L2.fit(train_XLR, train_YLR)\n",
    "\n",
    "# Display.\n",
    "print('Coefficients')\n",
    "print(logregr_L2.coef_)\n",
    "plt.hist(logregr_L2.coef_, bins=5)\n",
    "plt.xlabel('Coefficient Value')\n",
    "plt.show()\n",
    "print()\n",
    "print('Intercept')\n",
    "print(logregr_L2.intercept_)\n",
    "#pred_y = logregr.predict(test_X)\n",
    "#print(pred_y.shape)\n",
    "#print('\\n Accuracy by admission status')\n",
    "#print(pd.crosstab(pred_y, test_Y))\n",
    "\n",
    "print('\\n Percentage accuracy')\n",
    "print(logregr_L2.score(test_XLR, test_YLR))"
   ]
  },
  {
   "cell_type": "markdown",
   "metadata": {},
   "source": [
    "## L2 regularization after PCA:"
   ]
  },
  {
   "cell_type": "code",
   "execution_count": 50,
   "metadata": {},
   "outputs": [
    {
     "name": "stdout",
     "output_type": "stream",
     "text": [
      "Coefficients\n",
      "[[ 0.41410026  0.25358187  0.08648768 ...  0.54568355 -0.44970464\n",
      "   0.31670083]\n",
      " [ 0.37768515  0.78876411  0.17939797 ... -0.18464087  0.37517053\n",
      "  -0.01695133]\n",
      " [ 0.36937392  0.8486883   0.13002109 ...  0.02026248  1.09947098\n",
      "   0.22185843]\n",
      " ...\n",
      " [ 0.26089293 -0.19329768  0.04577007 ... -0.51790323  0.34396479\n",
      "   0.15684394]\n",
      " [ 0.48888652  0.12036483 -0.20870613 ... -0.10121652 -0.71867337\n",
      "   0.776878  ]\n",
      " [ 0.27345508 -0.10590434 -0.5824131  ...  0.69917006  0.21142587\n",
      "  -0.20760439]]\n"
     ]
    },
    {
     "data": {
      "image/png": "[encoded data removed]",
      "text/plain": [
       "<Figure size 432x288 with 1 Axes>"
      ]
     },
     "metadata": {
      "needs_background": "light"
     },
     "output_type": "display_data"
    },
    {
     "name": "stdout",
     "output_type": "stream",
     "text": [
      "[-6.30643616 -5.81761447 -5.69708413 -6.03862934 -5.46124279 -5.41164287\n",
      " -5.42479492 -5.99611298 -5.66771302 -5.79823691 -5.45366537 -5.45416327\n",
      " -5.91787493 -5.78718477 -5.83133388 -5.04667134 -5.45670767 -5.91923926\n",
      " -5.91904468 -5.45740286 -5.43375451 -5.42873824 -5.8703319  -5.66675061\n",
      " -5.13106511 -5.84332202 -5.78574339 -5.9233233  -7.02640544 -5.45411932\n",
      " -5.57875672 -5.45084024 -5.45525025 -5.84882036 -5.45098933 -5.15470899\n",
      " -5.97729168 -5.91329756 -5.79232445 -5.4590756  -5.65951616 -5.91192969\n",
      " -5.43447933 -5.36373977 -5.4531468  -6.25288522 -5.4455162  -5.65988688\n",
      " -5.82742126 -5.36696411 -5.08972301 -5.91086563 -5.83156368 -5.45429079\n",
      " -5.92400696 -5.44299169 -5.75408144 -5.44257651 -5.44889033 -5.66495885\n",
      " -5.44803776 -5.18218565 -5.66518875 -5.46079948 -5.46763339 -5.08349008\n",
      " -5.74573972 -5.53715511 -6.52589758 -5.29518923 -5.4439523  -5.44704117\n",
      " -5.35649623 -5.67061633 -5.43728177 -5.4590729  -5.92762261 -5.65898021\n",
      " -5.89865538 -5.44269754 -5.44908005 -5.91721071 -5.45209851 -5.45363161\n",
      " -5.78940419 -5.71216303 -5.21538844 -5.88453947 -5.44345558 -5.446348\n",
      " -5.72760443 -5.43996886 -5.7807936  -5.8425587  -5.89123004 -5.44965882\n",
      " -5.79111908 -5.89202423 -5.91574684 -5.66974455 -5.44945185 -5.83171201\n",
      " -5.44085468 -5.71019086 -5.44211222 -5.46109465 -5.54742021 -5.30513492\n",
      " -5.43894822 -4.72746897 -5.66228985 -4.60233899 -5.44079318 -5.44165212\n",
      " -5.22912866 -5.66843616 -5.99741741 -5.63820641 -5.51165515 -5.91645056\n",
      " -5.09271802 -5.1631721  -5.44319658 -5.42226316 -5.71173183 -5.44275442\n",
      " -5.8440646  -5.4359345  -5.766557   -5.46270392 -5.91399893 -5.43814698\n",
      " -5.0561354  -5.43887889 -5.63863305 -5.4417776  -5.83135946 -5.06760359\n",
      " -5.43321718 -5.2933237  -5.47861769 -5.43468889 -5.44306374 -6.18509762\n",
      " -5.68050248 -4.94628405 -5.80464051 -5.46184717 -5.45046773 -5.43889268\n",
      " -5.42970139 -5.84195465 -5.66982459 -5.4387223  -5.43327833 -5.85783808\n",
      " -4.53714068 -5.85117162 -4.70723841 -5.4326694  -4.72653214 -5.42862066\n",
      " -5.46140741 -5.66906773 -5.86650423 -5.66920583 -5.86846413 -5.42841123\n",
      " -5.66935961 -6.25444152 -5.79567398 -5.43699081 -5.45433257 -5.81693213\n",
      " -5.46213933 -5.435345   -5.44849644 -5.68092798 -5.4633484  -5.54944055\n",
      " -5.80390111 -5.85270251 -5.75044972 -5.82914328 -5.43655788 -5.09619651\n",
      " -5.83388961 -5.66827628 -5.91799396 -5.8113041  -5.67211428 -5.66893794\n",
      " -5.46097704 -5.84962227 -5.29571918 -5.45997814 -5.42667234 -5.46099928\n",
      " -5.49504957 -5.6434381  -5.85148665 -5.73876648 -5.59756169 -5.0455845 ]\n",
      "\n",
      " Percentage accuracy\n",
      "0.02857142857142857\n"
     ]
    }
   ],
   "source": [
    "# Declare a logistic regression classifier.\n",
    "# Parameter regularization coefficient C described above. l2 stands for ridge regression regularization. The higher the \n",
    "# C value, the lower the lambda for ridge regression.  In the plain vanilla logistic regression above, our C value was 1e9,\n",
    "# or 1 billion.  Here C will be 10, which will result in a higher lambda value.\n",
    "logregr_L2_pca = LogisticRegression(penalty='l2', C=10)\n",
    "\n",
    "\n",
    "# Fit the model.\n",
    "logregr_L2_pca.fit(train_X_pcaLR, train_Y_pcaLR)\n",
    "\n",
    "# Display.\n",
    "print('Coefficients')\n",
    "print(logregr_L2_pca.coef_)\n",
    "plt.hist(logregr_L2.coef_, bins=5)\n",
    "plt.xlabel('Coefficient Value')\n",
    "plt.show()\n",
    "print(logregr_L2_pca.intercept_)\n",
    "#pred_y = logregr.predict(test_X)\n",
    "#print(pred_y.shape)\n",
    "#print('\\n Accuracy by admission status')\n",
    "#print(pd.crosstab(pred_y, test_Y))\n",
    "\n",
    "print('\\n Percentage accuracy')\n",
    "print(logregr_L2_pca.score(test_X_pcaLR, test_Y_pcaLR))"
   ]
  },
  {
   "cell_type": "markdown",
   "metadata": {},
   "source": [
    "## L1 regularization after selectKBest:"
   ]
  },
  {
   "cell_type": "code",
   "execution_count": 51,
   "metadata": {},
   "outputs": [
    {
     "name": "stdout",
     "output_type": "stream",
     "text": [
      "Coefficients\n",
      "[[ 2.53896848e-04  1.23904666e-02  0.00000000e+00 ...  0.00000000e+00\n",
      "  -5.77967519e+00  0.00000000e+00]\n",
      " [ 5.20223258e-04 -2.09936524e-01  0.00000000e+00 ...  0.00000000e+00\n",
      "   2.32922028e+00  0.00000000e+00]\n",
      " [-9.60158794e-06  0.00000000e+00  0.00000000e+00 ... -1.72998078e+00\n",
      "   2.00104220e+00  0.00000000e+00]\n",
      " ...\n",
      " [-2.36387682e-03  1.30991999e-01  0.00000000e+00 ...  0.00000000e+00\n",
      "   0.00000000e+00  0.00000000e+00]\n",
      " [ 3.05550085e-04 -4.25773662e-01  0.00000000e+00 ...  0.00000000e+00\n",
      "  -1.23348324e-01  0.00000000e+00]\n",
      " [ 7.07072875e-05 -6.79613124e-03 -6.35653771e-02 ...  1.83903985e+00\n",
      "  -5.51916035e-02 -5.00210629e-01]]\n",
      "[  1.82659228  -1.92427263  -2.75045274  -0.92936882  -9.15248384\n",
      "  -5.1809701   -6.89159923  -7.28492797  -8.81321001   0.\n",
      "  -9.03156499  -7.94880362  -7.28240811 -10.86335835  -7.98026616\n",
      "  -7.53766688 -11.08400792  -8.22360223  -8.3777103  -10.71842917\n",
      "  -6.61044027  -7.51026157  -8.35557299  -8.71161428  -3.96130892\n",
      "  -8.67812712   0.          -5.60014001  -5.82604109  -8.40333306\n",
      "  -2.78931596 -10.94513413  -9.97719283  -7.02767996  -6.65794097\n",
      "  -6.83543056  -2.73875964  -5.47403278  -4.92572855  -9.11774479\n",
      "  -3.69127601  -4.82991219  -3.95464244  -7.60514552  -9.26568081\n",
      "  -6.17134103  -6.04084921  -6.02769902  -6.52063919  -6.77369644\n",
      "  -6.37413616 -10.10827855   0.          -8.15184896  -5.06877477\n",
      "  -1.35288524  -6.72603298  -9.42239538  -9.53642895  -6.5916638\n",
      "  -4.04079661  -5.36816172  -7.4050122   -9.31158642  -6.24777892\n",
      "  -5.92056819  -6.31233815  -2.97778532  -0.53634295  -3.63716778\n",
      "  -8.49754142  -5.74560522 -10.15178925  -5.27702035  -7.0085069\n",
      "  -5.23657745  -4.73889976  -4.48373857  -9.29750018  -9.28552754\n",
      "  -8.26656406  -6.60726189  -9.38763385  -4.49226458  -6.39389168\n",
      "  -1.00140747  -3.38384337  -5.49099248  -6.62070388  -8.62511942\n",
      "  -3.61940897  -9.82894772  -7.73604412  -4.38823823  -6.98791989\n",
      "  -8.01839856  -1.54521914  -5.84152151  -1.01832265  -5.64499741\n",
      "  -1.86863246  -4.23565421  -8.22919718  -3.88981485  -9.34291589\n",
      "  -6.7557358   -6.93893765  -9.25544588 -10.27805037  -3.26720753\n",
      "  -5.90949816  -8.40208836  -8.10985436  -7.38145664 -11.02998819\n",
      "  -8.09092247  -7.71840255  -6.29138677  -7.68468656  -5.16099254\n",
      "  -3.80148977  -6.61349225  -8.86304593  -8.20990575  -1.59873867\n",
      "  -9.37085932  -7.25674829  -8.17878362  -5.62521519  -3.13146576\n",
      "  -7.23175828  -9.93749472  -5.47596127  -9.3965436   -2.8122882\n",
      "  -8.05305123 -11.0326811   -5.2010445   -8.74454161  -4.62747955\n",
      " -11.32471788  -7.66194066  -5.95818872  -1.10013518  -6.00741233\n",
      "  -5.79564362  -4.3701429   -9.78144388  -4.31732313 -13.15754526\n",
      "  -7.35451765  -3.48013042  -6.52557966  -9.45963862 -11.08435806\n",
      "  -9.34026425  -5.43711964  -7.72081038  -7.12913311 -10.05743418\n",
      "  -5.35152777  -7.59688998  -7.21135771  -7.0394394   -9.85445468\n",
      "  -4.72056654 -13.08783838  -7.00896437  -8.95479611  -2.65850149\n",
      "  -6.86853883  -6.45609707  -5.29022227  -8.00797949  -3.71841351\n",
      "  -7.09472794  -5.31006908  -3.09130164  -7.01733167  -7.69110839\n",
      "  -2.79303553  -8.11464381  -3.81143503  -9.20217188  -6.9809493\n",
      "  -6.17925215  -7.10252809  -9.15420936  -5.38530192 -10.18720871\n",
      "  -3.02224207  -8.88226119  -8.6414897   -7.55797706  -6.3345877\n",
      "  -4.67993864  -8.16950963  -8.10240821  -7.09896966  -7.5363211\n",
      "  -4.54590699  -2.74176169  -6.96360022  -4.80621048]\n"
     ]
    },
    {
     "data": {
      "image/png": "[encoded data removed]",
      "text/plain": [
       "<Figure size 432x288 with 1 Axes>"
      ]
     },
     "metadata": {
      "needs_background": "light"
     },
     "output_type": "display_data"
    },
    {
     "name": "stdout",
     "output_type": "stream",
     "text": [
      "\n",
      " Percentage accuracy\n",
      "0.02857142857142857\n"
     ]
    }
   ],
   "source": [
    "# Declare a logistic regression classifier.\n",
    "# Parameter regularization coefficient C described above. l2 stands for ridge regression regularization. The higher the \n",
    "# C value, the lower the lambda for ridge regression.  In the plain vanilla logistic regression above, our C value was 1e9,\n",
    "# or 1 billion.  Here C will be 10, which will result in a higher lambda value.\n",
    "logregr_L1 = LogisticRegression(penalty='l1', C=10)\n",
    "\n",
    "\n",
    "# Fit the model.\n",
    "logregr_L1.fit(train_XLR, train_YLR)\n",
    "\n",
    "# Display.\n",
    "print('Coefficients')\n",
    "print(logregr_L1.coef_)\n",
    "print(logregr_L1.intercept_)\n",
    "plt.hist(logregr_L1.coef_, bins=5)\n",
    "plt.xlabel('Coefficient Value')\n",
    "plt.show()\n",
    "#pred_y = logregr.predict(test_X)\n",
    "#print(pred_y.shape)\n",
    "#print('\\n Accuracy by admission status')\n",
    "#print(pd.crosstab(pred_y, test_Y))\n",
    "\n",
    "print('\\n Percentage accuracy')\n",
    "print(logregr_L1.score(test_XLR, test_YLR))"
   ]
  },
  {
   "cell_type": "markdown",
   "metadata": {},
   "source": [
    "## L1 regularization after PCA:"
   ]
  },
  {
   "cell_type": "code",
   "execution_count": 52,
   "metadata": {},
   "outputs": [
    {
     "name": "stdout",
     "output_type": "stream",
     "text": [
      "Coefficients\n",
      "[[ 0.          0.          0.         ...  0.64081209  0.\n",
      "   0.01033684]\n",
      " [ 0.          1.24048769  0.         ... -0.0330098   0.31487406\n",
      "  -0.00271924]\n",
      " [ 0.          1.1097171   0.         ...  0.          1.68083725\n",
      "   0.07862697]\n",
      " ...\n",
      " [ 0.20501832 -0.39827477  0.05070682 ... -0.99421915  0.29779992\n",
      "   0.        ]\n",
      " [ 0.          0.         -0.15149232 ...  0.         -1.06873127\n",
      "   1.06107491]\n",
      " [ 0.          0.         -1.31215595 ...  0.84346702  0.19569451\n",
      "  -0.20320559]]\n",
      "[ -9.10234515  -7.60408485  -7.0861606   -7.91619884  -6.2447579\n",
      "  -6.09037374  -6.17464519  -7.60516638  -6.81375483  -6.94614295\n",
      "  -6.24299904  -6.24653843  -7.53587121  -7.00106803  -7.35814528\n",
      "  -5.53484943  -6.24276102  -7.53497901  -7.53534112  -6.24366693\n",
      "  -6.16452092  -6.16183396  -7.19425076  -6.8137054   -5.60404317\n",
      "  -7.11174613  -7.50829199  -7.46882466 -10.97430255  -6.24421067\n",
      "  -6.72671365  -6.24295299  -6.24506439  -7.12259682  -6.24453251\n",
      "  -5.78535602  -8.04398893  -7.3738262   -7.03506122  -6.24482469\n",
      "  -7.11254326  -7.36447589  -6.20318371  -6.32006434  -6.24564208\n",
      "  -8.66010945  -6.18238243  -7.11283466  -7.35901576  -5.92027379\n",
      "  -5.54734156  -7.35502005  -7.3586965   -6.24358524  -7.61082369\n",
      "  -6.23912824  -7.1554068   -6.24230295  -6.24588754  -6.81357389\n",
      "  -6.24105642  -6.25644928  -6.8135043   -6.18445223  -6.18522861\n",
      "  -5.54737003  -6.91148341  -6.8363698   -9.34349378  -6.09203844\n",
      "  -6.24610311  -6.23944884  -6.34634686  -6.81419335  -6.16954448\n",
      "  -6.24581786  -7.61080248  -7.11273726  -7.26617712  -6.23762987\n",
      "  -6.24835419  -7.66982958  -6.24403497  -6.30623407  -7.04629521\n",
      "  -6.80431181  -6.01734029  -7.20180574  -6.24614906  -6.24909358\n",
      "  -7.25187436  -6.1702438   -7.01864781  -7.41770547  -7.22564242\n",
      "  -6.24645945  -6.95371664  -7.35373998  -7.53565071  -6.81404234\n",
      "  -6.23903323  -7.35851583  -6.24070533  -7.01083473  -6.18255426\n",
      "  -6.20265478  -6.47982051  -6.21937826  -6.24923244  -4.90746991\n",
      "  -6.81239418  -4.86947763  -6.20141218  -6.2390629   -6.03982216\n",
      "  -6.84617935  -7.60520809  -7.00545076  -6.36293267  -7.61603895\n",
      "  -5.65344643  -5.95815915  -6.1829447   -6.16672133  -7.01069746\n",
      "  -6.2440048   -7.10984101  -6.23466995  -6.97910895  -6.63289328\n",
      "  -7.53725507  -6.23881153  -5.53396846  -6.23733239  -7.00358318\n",
      "  -6.2473733   -7.35826619  -5.67425257  -6.23912487  -6.09228064\n",
      "  -6.22993932  -6.23816519  -6.24135433  -8.52941433  -6.84739965\n",
      "  -5.4989953   -6.97351683  -6.24496322  -6.24959934  -6.24891451\n",
      "  -6.23237488  -7.10889578  -6.81386912  -6.24743422  -6.24367886\n",
      "  -7.13461174  -5.56984671  -7.12596686  -5.01846078  -6.23694816\n",
      "  -5.30628963  -6.22668756  -6.24652199  -6.81380293  -7.15269902\n",
      "  -6.8137854   -7.15734651  -6.23226361  -6.81394263  -8.65909762\n",
      "  -6.96864067  -6.24733534  -6.39002653  -7.03504465  -6.24331949\n",
      "  -6.23976887  -6.24528482  -6.84738676  -6.24460196  -6.66786292\n",
      "  -7.07222712  -7.12938488  -7.27675868  -7.35794878  -6.24172074\n",
      "  -5.65705573  -7.02549146  -6.81360308  -7.53523852  -6.98120748\n",
      "  -6.84725017  -6.81393212  -6.24600703  -7.1249004   -6.09230253\n",
      "  -6.24226645  -6.18573761  -6.24532372  -6.47668235  -6.84046016\n",
      "  -7.12626585  -6.88363073  -6.6195083   -5.53442538]\n"
     ]
    },
    {
     "data": {
      "image/png": "[encoded data removed]",
      "text/plain": [
       "<Figure size 432x288 with 1 Axes>"
      ]
     },
     "metadata": {
      "needs_background": "light"
     },
     "output_type": "display_data"
    },
    {
     "name": "stdout",
     "output_type": "stream",
     "text": [
      "\n",
      " Percentage accuracy\n",
      "0.02857142857142857\n"
     ]
    }
   ],
   "source": [
    "# Declare a logistic regression classifier.\n",
    "# Parameter regularization coefficient C described above. l2 stands for ridge regression regularization. The higher the \n",
    "# C value, the lower the lambda for ridge regression.  In the plain vanilla logistic regression above, our C value was 1e9,\n",
    "# or 1 billion.  Here C will be 10, which will result in a higher lambda value.\n",
    "logregr_L1_pca = LogisticRegression(penalty='l1', C=10)\n",
    "\n",
    "\n",
    "# Fit the model.\n",
    "logregr_L1_pca.fit(train_X_pcaLR, train_Y_pcaLR)\n",
    "\n",
    "# Display.\n",
    "print('Coefficients')\n",
    "print(logregr_L1_pca.coef_)\n",
    "print(logregr_L1_pca.intercept_)\n",
    "plt.hist(logregr_L1_pca.coef_, bins=5)\n",
    "plt.xlabel('Coefficient Value')\n",
    "plt.show()\n",
    "#pred_y = logregr.predict(test_X)\n",
    "#print(pred_y.shape)\n",
    "#print('\\n Accuracy by admission status')\n",
    "#print(pd.crosstab(pred_y, test_Y))\n",
    "\n",
    "print('\\n Percentage accuracy')\n",
    "print(logregr_L1_pca.score(test_X_pcaLR, test_Y_pcaLR))"
   ]
  },
  {
   "cell_type": "markdown",
   "metadata": {},
   "source": [
    "### After comparing the three models, the plain vanilla logistic regression model gave me the best accuracy scores.  Using selectKbest for feature selection, the accuracy score was 100%.  This may suggest that our model is overfitting to our data.  After using PCA for feature selection, the accuracy score of the logistic regression model was 94%.\n",
    "\n",
    "### Combining my logistic regression model with L2 regularization, the coefficients for our parameters in the model decreased, but the accuracy of our model also significantly decreased.\n",
    "\n",
    "### When I combined my logistic regression model with L1 regularization (lasso), the values of our coefficients were either at or centered around zero.  But the accuracy significantly dropped for this model also.\n",
    "\n",
    "### I wish I could have found the optimum level for lamba, and used it to adjust my C parameter in the L1 and L2 parameters.  This could have made these models more accurate."
   ]
  }
 ],
 "metadata": {
  "kernelspec": {
   "display_name": "Python 3",
   "language": "python",
   "name": "python3"
  },
  "language_info": {
   "codemirror_mode": {
    "name": "ipython",
    "version": 3
   },
   "file_extension": ".py",
   "mimetype": "text/x-python",
   "name": "python",
   "nbconvert_exporter": "python",
   "pygments_lexer": "ipython3",
   "version": "3.7.0"
  }
 },
 "nbformat": 4,
 "nbformat_minor": 2
}
