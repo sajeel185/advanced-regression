{
 "cells": [
  {
   "cell_type": "code",
   "execution_count": 214,
   "metadata": {},
   "outputs": [],
   "source": [
    "import math\n",
    "import warnings\n",
    "\n",
    "from IPython.display import display\n",
    "from matplotlib import pyplot as plt\n",
    "%matplotlib inline\n",
    "\n",
    "import numpy as np\n",
    "import pandas as pd\n",
    "import seaborn as sns\n",
    "from sklearn import linear_model\n",
    "import statsmodels.formula.api as smf\n",
    "import re\n",
    "from sklearn.model_selection import train_test_split\n",
    "from sklearn.linear_model import LogisticRegression\n",
    "from sklearn.feature_selection import SelectKBest\n",
    "from sklearn.feature_selection import chi2\n",
    "from sklearn.feature_selection import SelectPercentile, f_classif\n",
    "from sklearn.preprocessing import StandardScaler\n",
    "from sklearn.decomposition import PCA\n",
    "from sklearn.model_selection import cross_val_score\n",
    "\n",
    "\n",
    "\n",
    "#from sklearn.naive_bayes import BernoulliNB\n",
    "#bnb = BernoulliNB()"
   ]
  },
  {
   "cell_type": "code",
   "execution_count": 215,
   "metadata": {
    "scrolled": true
   },
   "outputs": [],
   "source": [
    "df = pd.read_csv('newyork_crime2013.csv')\n",
    "df = df.drop_duplicates()\n",
    "df = df.fillna(0)\n",
    "\n",
    "#print(df.head())\n",
    "#print(df.shape)"
   ]
  },
  {
   "cell_type": "code",
   "execution_count": 216,
   "metadata": {},
   "outputs": [
    {
     "name": "stdout",
     "output_type": "stream",
     "text": [
      "                       City Population Violent\\ncrime  \\\n",
      "0             Adams Village       1861              0   \n",
      "1  Addison Town and Village       2577              3   \n",
      "2             Akron Village       2846              3   \n",
      "3                    Albany      97956            791   \n",
      "4            Albion Village       6388             23   \n",
      "\n",
      "   Murder and\\nnonnegligent\\nmanslaughter  Rape\\n(revised\\ndefinition)1  \\\n",
      "0                                       0                           0.0   \n",
      "1                                       0                           0.0   \n",
      "2                                       0                           0.0   \n",
      "3                                       8                           0.0   \n",
      "4                                       0                           0.0   \n",
      "\n",
      "  Rape\\n(legacy\\ndefinition)2 Robbery Aggravated\\nassault Property\\ncrime  \\\n",
      "0                           0       0                   0              12   \n",
      "1                           0       0                   3              24   \n",
      "2                           0       0                   3              16   \n",
      "3                          30     227                 526            4090   \n",
      "4                           3       4                  16             223   \n",
      "\n",
      "  Burglary      ...       Arson3  PopSquared  IndicateMurder  IndicateRobbery  \\\n",
      "0        2      ...          0.0     3463321               0                0   \n",
      "1        3      ...          0.0     6640929               0                0   \n",
      "2        1      ...          0.0     8099716               0                0   \n",
      "3      705      ...          0.0  9595377936               1                1   \n",
      "4       53      ...          0.0    40806544               0                1   \n",
      "\n",
      "   IndicateLarceny  IndicateAggravatedAssault  IndicateRape  IndicateBurglary  \\\n",
      "0                1                          0             0                 1   \n",
      "1                1                          1             1                 1   \n",
      "2                1                          1             1                 1   \n",
      "3                1                          1             1                 1   \n",
      "4                1                          1             1                 1   \n",
      "\n",
      "   IndicateGTA  IndicateArson  \n",
      "0            0              0  \n",
      "1            1              0  \n",
      "2            0              0  \n",
      "3            1              0  \n",
      "4            1              0  \n",
      "\n",
      "[5 rows x 22 columns]\n"
     ]
    }
   ],
   "source": [
    "#Feature Engineering\n",
    "\n",
    "df['Population'] = df['Population'].str.replace(',','')\n",
    "pop_numeric = pd.to_numeric(df['Population'])\n",
    "df['PopSquared'] = pop_numeric ** 2\n",
    "\n",
    "#print(df['PopSquared'])\n",
    "\n",
    "df['IndicateMurder'] = np.where(df['Murder and\\nnonnegligent\\nmanslaughter'] > 0, 1, 0)\n",
    "r_numeric = pd.to_numeric(df['Robbery'], errors='coerce').fillna(0)\n",
    "df['IndicateRobbery'] = np.where(r_numeric > 0, 1, 0)\n",
    "\n",
    "df['Larceny-\\ntheft'] = df['Larceny-\\ntheft'].str.replace(',','')\n",
    "larceny_numeric = pd.to_numeric(df['Larceny-\\ntheft'])\n",
    "df['IndicateLarceny'] = np.where(larceny_numeric > 0, 1, 0)\n",
    "\n",
    "df['Aggravated\\nassault'] = df['Aggravated\\nassault'].str.replace(',','')\n",
    "agg_assault_numeric = pd.to_numeric(df['Aggravated\\nassault'])\n",
    "df['IndicateAggravatedAssault'] = np.where(agg_assault_numeric > 0, 1, 0)\n",
    "\n",
    "df['Robbery'] = df['Robbery'].str.replace(',','')\n",
    "Robbery_numeric = pd.to_numeric(df['Robbery'])\n",
    "df['IndicateRobbery'] = np.where(Robbery_numeric > 0, 1, 0)\n",
    "\n",
    "df['Rape\\n(legacy\\ndefinition)2'] = df['Rape\\n(legacy\\ndefinition)2'].str.replace(',','')\n",
    "Rape_numeric = pd.to_numeric(df['Rape\\n(legacy\\ndefinition)2'])\n",
    "df['IndicateRape'] = np.where(Rape_numeric > 0, 1, 0)\n",
    "\n",
    "df['Violent\\ncrime'] = df['Violent\\ncrime'].str.replace(',','')\n",
    "vcrime_numeric = pd.to_numeric(df['Violent\\ncrime'])\n",
    "df['IndicateRape'] = np.where(vcrime_numeric > 0, 1, 0)\n",
    "\n",
    "df['Burglary'] = df['Burglary'].str.replace(',','')\n",
    "burglary_numeric = pd.to_numeric(df['Burglary'])\n",
    "df['IndicateBurglary'] = np.where(burglary_numeric > 0, 1, 0)\n",
    "\n",
    "df['Motor\\nvehicle\\ntheft'] = df['Motor\\nvehicle\\ntheft'].str.replace(',','')\n",
    "gta_numeric = pd.to_numeric(df['Motor\\nvehicle\\ntheft'])\n",
    "df['IndicateGTA'] = np.where(gta_numeric > 0, 1, 0)\n",
    "\n",
    "df['IndicateArson'] = df['Arson3'].astype(int)\n",
    "\n",
    "df['Property\\ncrime'] = df['Property\\ncrime'].str.replace(',','')\n",
    "pd.to_numeric(df['Property\\ncrime'])\n",
    "\n",
    "\n",
    "\n",
    "\n",
    "print(df.head())"
   ]
  },
  {
   "cell_type": "code",
   "execution_count": 217,
   "metadata": {},
   "outputs": [
    {
     "name": "stdout",
     "output_type": "stream",
     "text": [
      "AxesSubplot(0.125,0.125;0.62x0.755)\n"
     ]
    },
    {
     "data": {
      "image/png": "[encoded data removed]",
      "text/plain": [
       "<Figure size 432x288 with 2 Axes>"
      ]
     },
     "metadata": {
      "needs_background": "light"
     },
     "output_type": "display_data"
    }
   ],
   "source": [
    "df_heat = sns.heatmap(df.corr(), vmin=-1, vmax=1)\n",
    "\n",
    "print(df_heat)"
   ]
  },
  {
   "cell_type": "code",
   "execution_count": 218,
   "metadata": {},
   "outputs": [
    {
     "name": "stdout",
     "output_type": "stream",
     "text": [
      "(348, 19)\n",
      "(348,)\n"
     ]
    }
   ],
   "source": [
    "#Splitting our data\n",
    "\n",
    "X = df.drop(['Murder and\\nnonnegligent\\nmanslaughter', 'IndicateMurder', 'City'], 1)\n",
    "Y = df['IndicateMurder']\n",
    "print(X.shape)\n",
    "print(Y.shape)"
   ]
  },
  {
   "cell_type": "markdown",
   "metadata": {},
   "source": [
    "## SelectKbest:"
   ]
  },
  {
   "cell_type": "code",
   "execution_count": 219,
   "metadata": {},
   "outputs": [
    {
     "name": "stderr",
     "output_type": "stream",
     "text": [
      "C:\\Users\\PV-R68G\\Anaconda3\\lib\\site-packages\\sklearn\\feature_selection\\univariate_selection.py:113: UserWarning: Features [2] are constant.\n",
      "  UserWarning)\n",
      "C:\\Users\\PV-R68G\\Anaconda3\\lib\\site-packages\\sklearn\\feature_selection\\univariate_selection.py:114: RuntimeWarning: invalid value encountered in true_divide\n",
      "  f = msb / msw\n",
      "C:\\Users\\PV-R68G\\Anaconda3\\lib\\site-packages\\sklearn\\feature_selection\\univariate_selection.py:113: UserWarning: Features [2] are constant.\n",
      "  UserWarning)\n",
      "C:\\Users\\PV-R68G\\Anaconda3\\lib\\site-packages\\sklearn\\feature_selection\\univariate_selection.py:114: RuntimeWarning: invalid value encountered in true_divide\n",
      "  f = msb / msw\n",
      "C:\\Users\\PV-R68G\\Anaconda3\\lib\\site-packages\\sklearn\\feature_selection\\univariate_selection.py:113: UserWarning: Features [2] are constant.\n",
      "  UserWarning)\n",
      "C:\\Users\\PV-R68G\\Anaconda3\\lib\\site-packages\\sklearn\\feature_selection\\univariate_selection.py:114: RuntimeWarning: invalid value encountered in true_divide\n",
      "  f = msb / msw\n",
      "C:\\Users\\PV-R68G\\Anaconda3\\lib\\site-packages\\sklearn\\feature_selection\\univariate_selection.py:113: UserWarning: Features [2] are constant.\n",
      "  UserWarning)\n",
      "C:\\Users\\PV-R68G\\Anaconda3\\lib\\site-packages\\sklearn\\feature_selection\\univariate_selection.py:114: RuntimeWarning: invalid value encountered in true_divide\n",
      "  f = msb / msw\n",
      "C:\\Users\\PV-R68G\\Anaconda3\\lib\\site-packages\\sklearn\\feature_selection\\univariate_selection.py:113: UserWarning: Features [2] are constant.\n",
      "  UserWarning)\n",
      "C:\\Users\\PV-R68G\\Anaconda3\\lib\\site-packages\\sklearn\\feature_selection\\univariate_selection.py:114: RuntimeWarning: invalid value encountered in true_divide\n",
      "  f = msb / msw\n",
      "C:\\Users\\PV-R68G\\Anaconda3\\lib\\site-packages\\sklearn\\feature_selection\\univariate_selection.py:113: UserWarning: Features [2] are constant.\n",
      "  UserWarning)\n",
      "C:\\Users\\PV-R68G\\Anaconda3\\lib\\site-packages\\sklearn\\feature_selection\\univariate_selection.py:114: RuntimeWarning: invalid value encountered in true_divide\n",
      "  f = msb / msw\n",
      "C:\\Users\\PV-R68G\\Anaconda3\\lib\\site-packages\\sklearn\\feature_selection\\univariate_selection.py:113: UserWarning: Features [2] are constant.\n",
      "  UserWarning)\n",
      "C:\\Users\\PV-R68G\\Anaconda3\\lib\\site-packages\\sklearn\\feature_selection\\univariate_selection.py:114: RuntimeWarning: invalid value encountered in true_divide\n",
      "  f = msb / msw\n",
      "C:\\Users\\PV-R68G\\Anaconda3\\lib\\site-packages\\sklearn\\feature_selection\\univariate_selection.py:113: UserWarning: Features [2] are constant.\n",
      "  UserWarning)\n",
      "C:\\Users\\PV-R68G\\Anaconda3\\lib\\site-packages\\sklearn\\feature_selection\\univariate_selection.py:114: RuntimeWarning: invalid value encountered in true_divide\n",
      "  f = msb / msw\n",
      "C:\\Users\\PV-R68G\\Anaconda3\\lib\\site-packages\\sklearn\\feature_selection\\univariate_selection.py:113: UserWarning: Features [2] are constant.\n",
      "  UserWarning)\n",
      "C:\\Users\\PV-R68G\\Anaconda3\\lib\\site-packages\\sklearn\\feature_selection\\univariate_selection.py:114: RuntimeWarning: invalid value encountered in true_divide\n",
      "  f = msb / msw\n",
      "C:\\Users\\PV-R68G\\Anaconda3\\lib\\site-packages\\sklearn\\feature_selection\\univariate_selection.py:113: UserWarning: Features [2] are constant.\n",
      "  UserWarning)\n",
      "C:\\Users\\PV-R68G\\Anaconda3\\lib\\site-packages\\sklearn\\feature_selection\\univariate_selection.py:114: RuntimeWarning: invalid value encountered in true_divide\n",
      "  f = msb / msw\n",
      "C:\\Users\\PV-R68G\\Anaconda3\\lib\\site-packages\\sklearn\\feature_selection\\univariate_selection.py:113: UserWarning: Features [2] are constant.\n",
      "  UserWarning)\n",
      "C:\\Users\\PV-R68G\\Anaconda3\\lib\\site-packages\\sklearn\\feature_selection\\univariate_selection.py:114: RuntimeWarning: invalid value encountered in true_divide\n",
      "  f = msb / msw\n",
      "C:\\Users\\PV-R68G\\Anaconda3\\lib\\site-packages\\sklearn\\feature_selection\\univariate_selection.py:113: UserWarning: Features [2] are constant.\n",
      "  UserWarning)\n",
      "C:\\Users\\PV-R68G\\Anaconda3\\lib\\site-packages\\sklearn\\feature_selection\\univariate_selection.py:114: RuntimeWarning: invalid value encountered in true_divide\n",
      "  f = msb / msw\n",
      "C:\\Users\\PV-R68G\\Anaconda3\\lib\\site-packages\\sklearn\\feature_selection\\univariate_selection.py:113: UserWarning: Features [2] are constant.\n",
      "  UserWarning)\n",
      "C:\\Users\\PV-R68G\\Anaconda3\\lib\\site-packages\\sklearn\\feature_selection\\univariate_selection.py:114: RuntimeWarning: invalid value encountered in true_divide\n",
      "  f = msb / msw\n",
      "C:\\Users\\PV-R68G\\Anaconda3\\lib\\site-packages\\sklearn\\feature_selection\\univariate_selection.py:113: UserWarning: Features [2] are constant.\n",
      "  UserWarning)\n",
      "C:\\Users\\PV-R68G\\Anaconda3\\lib\\site-packages\\sklearn\\feature_selection\\univariate_selection.py:114: RuntimeWarning: invalid value encountered in true_divide\n",
      "  f = msb / msw\n",
      "C:\\Users\\PV-R68G\\Anaconda3\\lib\\site-packages\\sklearn\\feature_selection\\univariate_selection.py:113: UserWarning: Features [2] are constant.\n",
      "  UserWarning)\n",
      "C:\\Users\\PV-R68G\\Anaconda3\\lib\\site-packages\\sklearn\\feature_selection\\univariate_selection.py:114: RuntimeWarning: invalid value encountered in true_divide\n",
      "  f = msb / msw\n",
      "C:\\Users\\PV-R68G\\Anaconda3\\lib\\site-packages\\sklearn\\feature_selection\\univariate_selection.py:113: UserWarning: Features [2] are constant.\n",
      "  UserWarning)\n",
      "C:\\Users\\PV-R68G\\Anaconda3\\lib\\site-packages\\sklearn\\feature_selection\\univariate_selection.py:114: RuntimeWarning: invalid value encountered in true_divide\n",
      "  f = msb / msw\n",
      "C:\\Users\\PV-R68G\\Anaconda3\\lib\\site-packages\\sklearn\\feature_selection\\univariate_selection.py:113: UserWarning: Features [2] are constant.\n",
      "  UserWarning)\n",
      "C:\\Users\\PV-R68G\\Anaconda3\\lib\\site-packages\\sklearn\\feature_selection\\univariate_selection.py:114: RuntimeWarning: invalid value encountered in true_divide\n",
      "  f = msb / msw\n",
      "C:\\Users\\PV-R68G\\Anaconda3\\lib\\site-packages\\sklearn\\feature_selection\\univariate_selection.py:113: UserWarning: Features [2] are constant.\n",
      "  UserWarning)\n",
      "C:\\Users\\PV-R68G\\Anaconda3\\lib\\site-packages\\sklearn\\feature_selection\\univariate_selection.py:114: RuntimeWarning: invalid value encountered in true_divide\n",
      "  f = msb / msw\n",
      "C:\\Users\\PV-R68G\\Anaconda3\\lib\\site-packages\\sklearn\\feature_selection\\univariate_selection.py:113: UserWarning: Features [2] are constant.\n",
      "  UserWarning)\n",
      "C:\\Users\\PV-R68G\\Anaconda3\\lib\\site-packages\\sklearn\\feature_selection\\univariate_selection.py:114: RuntimeWarning: invalid value encountered in true_divide\n",
      "  f = msb / msw\n"
     ]
    },
    {
     "data": {
      "image/png": "[encoded data removed]",
      "text/plain": [
       "<Figure size 432x288 with 1 Axes>"
      ]
     },
     "metadata": {
      "needs_background": "light"
     },
     "output_type": "display_data"
    }
   ],
   "source": [
    "k_range = range(1,20)\n",
    "k_scores = []\n",
    "for kvar in k_range:\n",
    "    skb_var = SelectKBest(f_classif, k=kvar).fit_transform(X, Y)\n",
    "    logregr = LogisticRegression(C=1e9)\n",
    "    scores = cross_val_score(logregr, skb_var, Y, cv=10)\n",
    "    k_scores.append(scores.mean())\n",
    "    \n",
    "plt.plot(k_range, k_scores)\n",
    "plt.xlabel('Value of K')\n",
    "plt.ylabel('Cross-validated accuracy')\n",
    "plt.show()"
   ]
  },
  {
   "cell_type": "markdown",
   "metadata": {},
   "source": [
    "#### From the above graph, we see that the highest accuracy score occurs when the value of our parameter K in selectKbest is equal to 15.\n"
   ]
  },
  {
   "cell_type": "code",
   "execution_count": 220,
   "metadata": {},
   "outputs": [
    {
     "name": "stderr",
     "output_type": "stream",
     "text": [
      "C:\\Users\\PV-R68G\\Anaconda3\\lib\\site-packages\\sklearn\\feature_selection\\univariate_selection.py:113: UserWarning: Features [2] are constant.\n",
      "  UserWarning)\n",
      "C:\\Users\\PV-R68G\\Anaconda3\\lib\\site-packages\\sklearn\\feature_selection\\univariate_selection.py:114: RuntimeWarning: invalid value encountered in true_divide\n",
      "  f = msb / msw\n"
     ]
    }
   ],
   "source": [
    "# Using selectKbest to reduce our features.\n",
    "skb_df = SelectKBest(f_classif, k=15).fit_transform(X, Y)\n"
   ]
  },
  {
   "cell_type": "code",
   "execution_count": 221,
   "metadata": {},
   "outputs": [
    {
     "name": "stdout",
     "output_type": "stream",
     "text": [
      "(278, 15)\n",
      "(278,)\n",
      "(70, 15)\n",
      "(70,)\n",
      "<class 'numpy.ndarray'>\n",
      "<class 'numpy.ndarray'>\n"
     ]
    }
   ],
   "source": [
    "#After applying selectKbest, I split the data into train and test groups.\n",
    "\n",
    "train_X, test_X, train_Y, test_Y = train_test_split(skb_df, Y, test_size=.2, random_state=20)\n",
    "print(train_X.shape)\n",
    "print(train_Y.shape)\n",
    "print(test_X.shape)\n",
    "print(test_Y.shape)\n",
    "print(type(train_X))\n",
    "print(type(test_X))"
   ]
  },
  {
   "cell_type": "markdown",
   "metadata": {},
   "source": [
    "## PCA:"
   ]
  },
  {
   "cell_type": "code",
   "execution_count": 222,
   "metadata": {},
   "outputs": [],
   "source": [
    "# Normalize the data so that all variables have a mean of 0 and standard deviation\n",
    "# o\n",
    "\n",
    "\n",
    "X_norm = StandardScaler().fit_transform(X)"
   ]
  },
  {
   "cell_type": "code",
   "execution_count": 223,
   "metadata": {},
   "outputs": [
    {
     "name": "stdout",
     "output_type": "stream",
     "text": [
      "6\n",
      "[0.55349031 0.1697093  0.11022691 0.05677215 0.04237035 0.02994976]\n"
     ]
    }
   ],
   "source": [
    "#Apply PCA\n",
    "\n",
    "pca = PCA(.95)\n",
    "pca_X = pca.fit_transform(X_norm)\n",
    "\n",
    "comp_no = pca.n_components_\n",
    "comp_var_ratio = pca.explained_variance_ratio_\n",
    "\n",
    "print(comp_no)\n",
    "print(comp_var_ratio)\n",
    "#print(p_components)"
   ]
  },
  {
   "cell_type": "code",
   "execution_count": 224,
   "metadata": {},
   "outputs": [
    {
     "name": "stdout",
     "output_type": "stream",
     "text": [
      "(348, 6)\n"
     ]
    }
   ],
   "source": [
    "pca_df = pd.DataFrame(data=pca_X)\n",
    "#print(pca_df.head())\n",
    "print(pca_df.shape)"
   ]
  },
  {
   "cell_type": "code",
   "execution_count": 225,
   "metadata": {},
   "outputs": [
    {
     "name": "stdout",
     "output_type": "stream",
     "text": [
      "(348, 6)\n"
     ]
    }
   ],
   "source": [
    "#After applying PCA, I split the data into train and test groups.\n",
    "\n",
    "train_X_pca, test_X_pca, train_Y_pca, test_Y_pca = train_test_split(pca_X, Y, test_size=.2, random_state=20)\n",
    "\n",
    "print(pca_X.shape)\n"
   ]
  },
  {
   "cell_type": "markdown",
   "metadata": {},
   "source": [
    "## Logistic Regression using selectKbest:"
   ]
  },
  {
   "cell_type": "code",
   "execution_count": 245,
   "metadata": {},
   "outputs": [
    {
     "name": "stdout",
     "output_type": "stream",
     "text": [
      "Coefficients\n",
      "[[ 1.06934401e-05  6.78864195e+00 -6.77756922e+00 -6.79504005e+00\n",
      "  -6.77534606e+00  2.22424269e-03  3.32742102e-05 -2.38216576e-03\n",
      "   4.57313424e-03 -7.28902320e-02  1.17273637e+00  3.35734682e-01\n",
      "  -9.17342121e-01  3.00320536e-01 -7.28902320e-02]]\n"
     ]
    },
    {
     "data": {
      "image/png": "[encoded data removed]",
      "text/plain": [
       "<Figure size 432x288 with 1 Axes>"
      ]
     },
     "metadata": {
      "needs_background": "light"
     },
     "output_type": "display_data"
    },
    {
     "name": "stdout",
     "output_type": "stream",
     "text": [
      "\n",
      "[-5.69932865]\n",
      "\n",
      " Percentage accuracy\n",
      "1.0\n"
     ]
    }
   ],
   "source": [
    "# Declare a logistic regression classifier.\n",
    "# Parameter regularization coefficient C described above.\n",
    "logregr = LogisticRegression(C=1e9)\n",
    "\n",
    "\n",
    "# Fit the model.\n",
    "fit = logregr.fit(train_X, train_Y)\n",
    "\n",
    "# Display.\n",
    "print('Coefficients')\n",
    "print(fit.coef_)\n",
    "plt.hist(fit.coef_, bins=5)\n",
    "plt.show()\n",
    "print()\n",
    "print(fit.intercept_)\n",
    "#pred_y = logregr.predict(test_X)\n",
    "#print(pred_y.shape)\n",
    "#print('\\n Accuracy by admission status')\n",
    "#print(pd.crosstab(pred_y, test_Y))\n",
    "\n",
    "print('\\n Percentage accuracy')\n",
    "print(logregr.score(test_X, test_Y))"
   ]
  },
  {
   "cell_type": "markdown",
   "metadata": {},
   "source": [
    "## Logistic Regression using PCA:"
   ]
  },
  {
   "cell_type": "code",
   "execution_count": 248,
   "metadata": {},
   "outputs": [
    {
     "name": "stdout",
     "output_type": "stream",
     "text": [
      "Coefficients\n",
      "[[ 8.96969289 -3.60176561 -1.27309423  0.11372595  1.83461919  0.0334954 ]]\n"
     ]
    },
    {
     "data": {
      "image/png": "[encoded data removed]",
      "text/plain": [
       "<Figure size 432x288 with 1 Axes>"
      ]
     },
     "metadata": {
      "needs_background": "light"
     },
     "output_type": "display_data"
    },
    {
     "name": "stdout",
     "output_type": "stream",
     "text": [
      "[-3.8467803]\n",
      "\n",
      " Percentage accuracy\n",
      "0.9428571428571428\n"
     ]
    }
   ],
   "source": [
    "# Declare a logistic regression classifier.\n",
    "# Parameter regularization coefficient C described above.\n",
    "logregr_pca = LogisticRegression(C=1e9)\n",
    "\n",
    "\n",
    "# Fit the model.\n",
    "logregr_pca.fit(train_X_pca, train_Y_pca)\n",
    "\n",
    "# Display.\n",
    "print('Coefficients')\n",
    "print(logregr_pca.coef_)\n",
    "plt.hist(logregr_pca.coef_, bins=5)\n",
    "plt.show()\n",
    "print(logregr_pca.intercept_)\n",
    "#pred_y_pca = logregr.predict(test_X_pca)\n",
    "#print(pred_y.shape)\n",
    "#print('\\n Accuracy by admission status')\n",
    "#print(pd.crosstab(pred_y_pca, test_Y_pca))\n",
    "\n",
    "print('\\n Percentage accuracy')\n",
    "print(logregr_pca.score(test_X_pca, test_Y_pca))"
   ]
  },
  {
   "cell_type": "markdown",
   "metadata": {},
   "source": [
    "#### Using PCA, instead of seleckbest, for feature selection allowed my logistic regression model to have a much better accuracy score of 91%"
   ]
  },
  {
   "cell_type": "markdown",
   "metadata": {},
   "source": [
    "# Ridge Logistic Regression:"
   ]
  },
  {
   "cell_type": "code",
   "execution_count": 228,
   "metadata": {},
   "outputs": [
    {
     "name": "stdout",
     "output_type": "stream",
     "text": [
      "(348, 19)\n",
      "(348,)\n"
     ]
    }
   ],
   "source": [
    "X_pcrime = df.drop(['Property\\ncrime', 'City'], 1)\n",
    "Y_pcrime = df['Property\\ncrime']\n",
    "print(X.shape)\n",
    "print(Y.shape)"
   ]
  },
  {
   "cell_type": "markdown",
   "metadata": {},
   "source": [
    "## SelectKbest - second model:"
   ]
  },
  {
   "cell_type": "code",
   "execution_count": 229,
   "metadata": {},
   "outputs": [
    {
     "name": "stderr",
     "output_type": "stream",
     "text": [
      "C:\\Users\\PV-R68G\\Anaconda3\\lib\\site-packages\\sklearn\\feature_selection\\univariate_selection.py:113: UserWarning: Features [3] are constant.\n",
      "  UserWarning)\n",
      "C:\\Users\\PV-R68G\\Anaconda3\\lib\\site-packages\\sklearn\\feature_selection\\univariate_selection.py:114: RuntimeWarning: invalid value encountered in true_divide\n",
      "  f = msb / msw\n",
      "C:\\Users\\PV-R68G\\Anaconda3\\lib\\site-packages\\sklearn\\feature_selection\\univariate_selection.py:113: UserWarning: Features [3] are constant.\n",
      "  UserWarning)\n",
      "C:\\Users\\PV-R68G\\Anaconda3\\lib\\site-packages\\sklearn\\feature_selection\\univariate_selection.py:114: RuntimeWarning: invalid value encountered in true_divide\n",
      "  f = msb / msw\n",
      "C:\\Users\\PV-R68G\\Anaconda3\\lib\\site-packages\\sklearn\\feature_selection\\univariate_selection.py:113: UserWarning: Features [3] are constant.\n",
      "  UserWarning)\n",
      "C:\\Users\\PV-R68G\\Anaconda3\\lib\\site-packages\\sklearn\\feature_selection\\univariate_selection.py:114: RuntimeWarning: invalid value encountered in true_divide\n",
      "  f = msb / msw\n",
      "C:\\Users\\PV-R68G\\Anaconda3\\lib\\site-packages\\sklearn\\feature_selection\\univariate_selection.py:113: UserWarning: Features [3] are constant.\n",
      "  UserWarning)\n",
      "C:\\Users\\PV-R68G\\Anaconda3\\lib\\site-packages\\sklearn\\feature_selection\\univariate_selection.py:114: RuntimeWarning: invalid value encountered in true_divide\n",
      "  f = msb / msw\n",
      "C:\\Users\\PV-R68G\\Anaconda3\\lib\\site-packages\\sklearn\\feature_selection\\univariate_selection.py:113: UserWarning: Features [3] are constant.\n",
      "  UserWarning)\n",
      "C:\\Users\\PV-R68G\\Anaconda3\\lib\\site-packages\\sklearn\\feature_selection\\univariate_selection.py:114: RuntimeWarning: invalid value encountered in true_divide\n",
      "  f = msb / msw\n",
      "C:\\Users\\PV-R68G\\Anaconda3\\lib\\site-packages\\sklearn\\feature_selection\\univariate_selection.py:113: UserWarning: Features [3] are constant.\n",
      "  UserWarning)\n",
      "C:\\Users\\PV-R68G\\Anaconda3\\lib\\site-packages\\sklearn\\feature_selection\\univariate_selection.py:114: RuntimeWarning: invalid value encountered in true_divide\n",
      "  f = msb / msw\n",
      "C:\\Users\\PV-R68G\\Anaconda3\\lib\\site-packages\\sklearn\\feature_selection\\univariate_selection.py:113: UserWarning: Features [3] are constant.\n",
      "  UserWarning)\n",
      "C:\\Users\\PV-R68G\\Anaconda3\\lib\\site-packages\\sklearn\\feature_selection\\univariate_selection.py:114: RuntimeWarning: invalid value encountered in true_divide\n",
      "  f = msb / msw\n",
      "C:\\Users\\PV-R68G\\Anaconda3\\lib\\site-packages\\sklearn\\feature_selection\\univariate_selection.py:113: UserWarning: Features [3] are constant.\n",
      "  UserWarning)\n",
      "C:\\Users\\PV-R68G\\Anaconda3\\lib\\site-packages\\sklearn\\feature_selection\\univariate_selection.py:114: RuntimeWarning: invalid value encountered in true_divide\n",
      "  f = msb / msw\n",
      "C:\\Users\\PV-R68G\\Anaconda3\\lib\\site-packages\\sklearn\\feature_selection\\univariate_selection.py:113: UserWarning: Features [3] are constant.\n",
      "  UserWarning)\n",
      "C:\\Users\\PV-R68G\\Anaconda3\\lib\\site-packages\\sklearn\\feature_selection\\univariate_selection.py:114: RuntimeWarning: invalid value encountered in true_divide\n",
      "  f = msb / msw\n",
      "C:\\Users\\PV-R68G\\Anaconda3\\lib\\site-packages\\sklearn\\feature_selection\\univariate_selection.py:113: UserWarning: Features [3] are constant.\n",
      "  UserWarning)\n",
      "C:\\Users\\PV-R68G\\Anaconda3\\lib\\site-packages\\sklearn\\feature_selection\\univariate_selection.py:114: RuntimeWarning: invalid value encountered in true_divide\n",
      "  f = msb / msw\n",
      "C:\\Users\\PV-R68G\\Anaconda3\\lib\\site-packages\\sklearn\\feature_selection\\univariate_selection.py:113: UserWarning: Features [3] are constant.\n",
      "  UserWarning)\n",
      "C:\\Users\\PV-R68G\\Anaconda3\\lib\\site-packages\\sklearn\\feature_selection\\univariate_selection.py:114: RuntimeWarning: invalid value encountered in true_divide\n",
      "  f = msb / msw\n",
      "C:\\Users\\PV-R68G\\Anaconda3\\lib\\site-packages\\sklearn\\feature_selection\\univariate_selection.py:113: UserWarning: Features [3] are constant.\n",
      "  UserWarning)\n",
      "C:\\Users\\PV-R68G\\Anaconda3\\lib\\site-packages\\sklearn\\feature_selection\\univariate_selection.py:114: RuntimeWarning: invalid value encountered in true_divide\n",
      "  f = msb / msw\n",
      "C:\\Users\\PV-R68G\\Anaconda3\\lib\\site-packages\\sklearn\\feature_selection\\univariate_selection.py:113: UserWarning: Features [3] are constant.\n",
      "  UserWarning)\n",
      "C:\\Users\\PV-R68G\\Anaconda3\\lib\\site-packages\\sklearn\\feature_selection\\univariate_selection.py:114: RuntimeWarning: invalid value encountered in true_divide\n",
      "  f = msb / msw\n",
      "C:\\Users\\PV-R68G\\Anaconda3\\lib\\site-packages\\sklearn\\feature_selection\\univariate_selection.py:113: UserWarning: Features [3] are constant.\n",
      "  UserWarning)\n",
      "C:\\Users\\PV-R68G\\Anaconda3\\lib\\site-packages\\sklearn\\feature_selection\\univariate_selection.py:114: RuntimeWarning: invalid value encountered in true_divide\n",
      "  f = msb / msw\n",
      "C:\\Users\\PV-R68G\\Anaconda3\\lib\\site-packages\\sklearn\\feature_selection\\univariate_selection.py:113: UserWarning: Features [3] are constant.\n",
      "  UserWarning)\n",
      "C:\\Users\\PV-R68G\\Anaconda3\\lib\\site-packages\\sklearn\\feature_selection\\univariate_selection.py:114: RuntimeWarning: invalid value encountered in true_divide\n",
      "  f = msb / msw\n",
      "C:\\Users\\PV-R68G\\Anaconda3\\lib\\site-packages\\sklearn\\feature_selection\\univariate_selection.py:113: UserWarning: Features [3] are constant.\n",
      "  UserWarning)\n",
      "C:\\Users\\PV-R68G\\Anaconda3\\lib\\site-packages\\sklearn\\feature_selection\\univariate_selection.py:114: RuntimeWarning: invalid value encountered in true_divide\n",
      "  f = msb / msw\n",
      "C:\\Users\\PV-R68G\\Anaconda3\\lib\\site-packages\\sklearn\\feature_selection\\univariate_selection.py:113: UserWarning: Features [3] are constant.\n",
      "  UserWarning)\n",
      "C:\\Users\\PV-R68G\\Anaconda3\\lib\\site-packages\\sklearn\\feature_selection\\univariate_selection.py:114: RuntimeWarning: invalid value encountered in true_divide\n",
      "  f = msb / msw\n",
      "C:\\Users\\PV-R68G\\Anaconda3\\lib\\site-packages\\sklearn\\feature_selection\\univariate_selection.py:113: UserWarning: Features [3] are constant.\n",
      "  UserWarning)\n",
      "C:\\Users\\PV-R68G\\Anaconda3\\lib\\site-packages\\sklearn\\feature_selection\\univariate_selection.py:114: RuntimeWarning: invalid value encountered in true_divide\n",
      "  f = msb / msw\n",
      "C:\\Users\\PV-R68G\\Anaconda3\\lib\\site-packages\\sklearn\\feature_selection\\univariate_selection.py:113: UserWarning: Features [3] are constant.\n",
      "  UserWarning)\n",
      "C:\\Users\\PV-R68G\\Anaconda3\\lib\\site-packages\\sklearn\\feature_selection\\univariate_selection.py:114: RuntimeWarning: invalid value encountered in true_divide\n",
      "  f = msb / msw\n"
     ]
    },
    {
     "data": {
      "image/png": "[encoded data removed]",
      "text/plain": [
       "<Figure size 432x288 with 1 Axes>"
      ]
     },
     "metadata": {
      "needs_background": "light"
     },
     "output_type": "display_data"
    }
   ],
   "source": [
    "k_range2 = range(1,20)\n",
    "k_scores2 = []\n",
    "for kvar in k_range2:\n",
    "    skb_var2 = SelectKBest(f_classif, k=kvar).fit_transform(X_pcrime, Y_pcrime)\n",
    "    logregr2 = LogisticRegression(penalty='l2', C=10)\n",
    "    scores = cross_val_score(logregr2, skb_var2, Y, cv=10)\n",
    "    k_scores2.append(scores.mean())\n",
    "    \n",
    "plt.plot(k_range, k_scores)\n",
    "plt.xlabel('Value of K')\n",
    "plt.ylabel('Cross-validated accuracy')\n",
    "plt.show()"
   ]
  },
  {
   "cell_type": "markdown",
   "metadata": {},
   "source": [
    "#### The optimum value for k in selectKbest is 15."
   ]
  },
  {
   "cell_type": "code",
   "execution_count": 230,
   "metadata": {},
   "outputs": [
    {
     "name": "stderr",
     "output_type": "stream",
     "text": [
      "C:\\Users\\PV-R68G\\Anaconda3\\lib\\site-packages\\sklearn\\feature_selection\\univariate_selection.py:113: UserWarning: Features [3] are constant.\n",
      "  UserWarning)\n",
      "C:\\Users\\PV-R68G\\Anaconda3\\lib\\site-packages\\sklearn\\feature_selection\\univariate_selection.py:114: RuntimeWarning: invalid value encountered in true_divide\n",
      "  f = msb / msw\n"
     ]
    }
   ],
   "source": [
    "# Using selectKbest to reduce our features.\n",
    "LR_skb_df = SelectKBest(f_classif, k=15).fit_transform(X_pcrime, Y_pcrime)"
   ]
  },
  {
   "cell_type": "code",
   "execution_count": 231,
   "metadata": {},
   "outputs": [],
   "source": [
    "#After applying selectKbest, I split the data into train and test groups.\n",
    "\n",
    "train_XLR, test_XLR, train_YLR, test_YLR = train_test_split(LR_skb_df, Y_pcrime, test_size=.2, random_state=20)"
   ]
  },
  {
   "cell_type": "markdown",
   "metadata": {},
   "source": [
    "## PCA - second model:"
   ]
  },
  {
   "cell_type": "code",
   "execution_count": 232,
   "metadata": {},
   "outputs": [],
   "source": [
    "# Normalize the data so that all variables have a mean of 0 and standard deviation\n",
    "# o\n",
    "\n",
    "\n",
    "XLR_norm = StandardScaler().fit_transform(X_pcrime)"
   ]
  },
  {
   "cell_type": "code",
   "execution_count": 233,
   "metadata": {},
   "outputs": [],
   "source": [
    "#Apply PCA\n",
    "\n",
    "pcaLR = PCA(.95)\n",
    "pca_XLR = pca.fit_transform(XLR_norm)\n",
    "\n",
    "#comp_no_LR = pcaLR.n_components_\n",
    "#comp_var_ratioLR = pcaLR.explained_variance_ratio_\n",
    "\n",
    "#print(comp_no_LR)\n",
    "#print(comp_var_ratioLR)\n",
    "#print(p_components)"
   ]
  },
  {
   "cell_type": "code",
   "execution_count": 234,
   "metadata": {},
   "outputs": [
    {
     "name": "stdout",
     "output_type": "stream",
     "text": [
      "(348, 7)\n"
     ]
    }
   ],
   "source": [
    "pca_df_LR = pd.DataFrame(data=pca_XLR)\n",
    "#print(pca_df_LR.head())\n",
    "print(pca_df_LR.shape)"
   ]
  },
  {
   "cell_type": "code",
   "execution_count": 235,
   "metadata": {},
   "outputs": [
    {
     "name": "stdout",
     "output_type": "stream",
     "text": [
      "(348, 7)\n"
     ]
    }
   ],
   "source": [
    "#After applying PCA, I split the data into train and test groups.\n",
    "\n",
    "train_X_pcaLR, test_X_pcaLR, train_Y_pcaLR, test_Y_pcaLR = train_test_split(pca_XLR, Y_pcrime, test_size=.2, random_state=20)\n",
    "\n",
    "print(pca_XLR.shape)\n"
   ]
  },
  {
   "cell_type": "markdown",
   "metadata": {},
   "source": [
    "## L2 regularization after selectKBest:"
   ]
  },
  {
   "cell_type": "code",
   "execution_count": 244,
   "metadata": {},
   "outputs": [
    {
     "name": "stdout",
     "output_type": "stream",
     "text": [
      "Coefficients\n",
      "[[-7.29447921e-10 -1.21028740e-12 -1.43736872e-16 ... -9.34101897e-14\n",
      "  -1.21930242e-12 -3.50247689e-14]\n",
      " [-3.79516318e-10 -4.55802901e-13 -1.53147295e-16 ... -4.68877297e-14\n",
      "  -2.53333568e-13 -1.37316542e-14]\n",
      " [-4.86693876e-10 -5.60066857e-13 -1.45586980e-16 ... -7.33478311e-14\n",
      "  -2.97573766e-13 -2.38960863e-14]\n",
      " ...\n",
      " [-5.07735469e-04  4.95580346e-07  2.81813236e-08 ... -5.64055471e-08\n",
      "  -1.73082055e-07 -1.28865102e-08]\n",
      " [-5.47789649e-04 -6.95761819e-07 -6.94940611e-10 ... -6.66612071e-08\n",
      "  -2.88525792e-07 -1.77477377e-08]\n",
      " [-4.64050473e-08 -4.81012199e-11 -1.68851887e-14 ... -4.75444286e-12\n",
      "  -2.60500598e-11 -1.52541879e-12]]\n"
     ]
    },
    {
     "data": {
      "image/png": "[encoded data removed]",
      "text/plain": [
       "<Figure size 432x288 with 1 Axes>"
      ]
     },
     "metadata": {
      "needs_background": "light"
     },
     "output_type": "display_data"
    },
    {
     "name": "stdout",
     "output_type": "stream",
     "text": [
      "\n",
      "Intercept\n",
      "[-6.12089868e-13 -2.67357456e-13 -3.89838984e-13 -4.17792925e-07\n",
      " -6.13913836e-13 -1.42667097e-07 -2.28844642e-07 -6.54979644e-11\n",
      " -3.53876597e-11 -3.46725755e-07 -1.16371889e-13 -5.21015363e-07\n",
      " -3.53265310e-11 -1.68936765e-07 -6.98679655e-11 -5.34354555e-14\n",
      " -1.61767907e-10 -2.61101749e-13 -1.36962807e-13 -1.57934017e-10\n",
      " -3.66293678e-07 -2.62192928e-07 -1.76659473e-07 -1.10009519e-13\n",
      " -5.24271839e-13 -1.93130213e-07 -4.92957300e-07 -2.85876304e-13\n",
      " -7.60535365e-11 -6.95092612e-11 -5.47443321e-13 -5.16153948e-13\n",
      " -2.90459321e-07 -3.43040834e-07 -5.00336526e-07 -8.62736743e-08\n",
      " -1.08912237e-12 -2.73352900e-13 -1.51348093e-07 -3.35162231e-13\n",
      " -2.65699112e-13 -1.51471633e-10 -1.30184455e-07 -1.35126382e-13\n",
      " -6.61799875e-07 -9.58230354e-09 -1.32100440e-13 -6.08608063e-13\n",
      " -1.32100440e-13 -4.57109854e-14 -1.72270528e-14 -6.56601273e-11\n",
      " -3.83489377e-12 -2.69396567e-13 -5.98582644e-13 -6.69609118e-13\n",
      " -5.04582424e-13 -3.30947761e-07 -6.06911117e-07 -3.68702286e-07\n",
      " -6.36268889e-13 -3.04157040e-13 -1.30299314e-13 -3.26357990e-13\n",
      " -3.19068102e-13 -2.29761075e-07 -2.02254068e-07 -1.77602279e-07\n",
      " -8.28083020e-13 -6.07373162e-13 -2.68205616e-07 -5.80737169e-13\n",
      " -1.41391282e-07 -1.01351433e-12 -1.32062667e-13 -6.05317247e-13\n",
      " -5.57733450e-13 -7.99836884e-11 -2.75618711e-07 -2.95183325e-13\n",
      " -3.64153715e-07 -2.88798042e-13 -9.59576021e-09 -1.09090889e-07\n",
      " -2.43721287e-07 -1.15517132e-06 -5.04284398e-13 -1.18651232e-13\n",
      " -2.55248071e-07 -2.84443577e-07 -1.33920923e-13 -1.15190908e-13\n",
      " -1.71560128e-07 -1.20958712e-12 -2.74211235e-07 -3.53038258e-07\n",
      " -2.02137810e-07 -6.03919533e-11 -1.60870490e-10 -1.15191082e-12\n",
      " -1.26017881e-12 -2.00776714e-12 -3.75449122e-07 -7.28517750e-11\n",
      " -3.30055305e-07 -2.88010785e-07 -4.94090098e-07 -4.16914690e-09\n",
      " -2.06172159e-07 -2.24341782e-13 -2.66647868e-13 -1.41699458e-13\n",
      " -2.08513242e-07 -2.53243354e-07 -2.11129641e-07 -3.61182629e-07\n",
      " -2.86670225e-13 -4.87062785e-13 -4.86939988e-07 -7.62320201e-11\n",
      " -5.36864039e-13 -2.63310270e-13 -3.49456241e-11 -4.71209245e-07\n",
      " -1.63266253e-12 -2.69255243e-07 -3.12968802e-07 -4.42890399e-07\n",
      " -1.23391440e-07 -4.83059290e-13 -1.09088213e-13 -3.48158643e-11\n",
      " -1.20528800e-13 -3.36790414e-11 -1.00231704e-12 -1.84484032e-07\n",
      " -5.91396046e-13 -3.06827815e-13 -3.68280062e-07 -2.69790117e-13\n",
      " -2.48379211e-07 -3.75548552e-07 -6.62418849e-11 -1.76932917e-12\n",
      " -1.21212404e-12 -1.15316212e-13 -5.86569045e-07 -5.75138083e-13\n",
      " -1.11090001e-13 -2.18439591e-07 -4.32382344e-07 -1.79003168e-07\n",
      " -1.26323938e-12 -3.61916178e-07 -3.28287663e-07 -1.79008494e-07\n",
      " -4.60794819e-14 -2.08502869e-07 -3.30754849e-11 -2.72717701e-07\n",
      " -4.91545416e-14 -2.51695357e-07 -1.39565505e-13 -1.03428536e-12\n",
      " -4.58566168e-07 -9.60820082e-13 -3.72729752e-07 -3.40230896e-07\n",
      " -1.68044739e-10 -2.11831301e-12 -2.64856785e-07 -3.35036423e-07\n",
      " -2.74253219e-11 -3.18889204e-07 -1.29238059e-12 -3.00654245e-07\n",
      " -5.10658100e-07 -1.35836984e-12 -1.07248836e-12 -1.72095890e-14\n",
      " -4.80843048e-07 -2.14909384e-07 -4.32926462e-13 -2.70161449e-07\n",
      " -3.52351655e-07 -1.45178638e-13 -2.72168775e-07 -6.56754170e-13\n",
      " -5.73324934e-13 -3.65821707e-07 -8.22217769e-11 -3.16686114e-13\n",
      " -8.18224353e-11 -3.38152167e-07 -5.45653329e-13 -1.29790843e-12\n",
      " -2.45585668e-07 -2.77290311e-13 -1.52464145e-07 -2.41716441e-13\n",
      " -2.75958587e-07 -1.81052424e-07 -3.09939419e-07 -2.82081719e-11]\n",
      "\n",
      " Percentage accuracy\n",
      "0.0\n"
     ]
    }
   ],
   "source": [
    "# Declare a logistic regression classifier.\n",
    "# Parameter regularization coefficient C described above. l2 stands for ridge regression regularization. The higher the \n",
    "# C value, the lower the lambda for ridge regression.  In the plain vanilla logistic regression above, our C value was 1e9,\n",
    "# or 1 billion.  Here C will be 10, which will result in a higher lambda value.\n",
    "logregr_L2 = LogisticRegression(penalty='l2', C=10)\n",
    "\n",
    "\n",
    "# Fit the model.\n",
    "logregr_L2.fit(train_XLR, train_YLR)\n",
    "\n",
    "# Display.\n",
    "print('Coefficients')\n",
    "print(logregr_L2.coef_)\n",
    "plt.hist(logregr_L2.coef_, bins=5)\n",
    "plt.show()\n",
    "print()\n",
    "print('Intercept')\n",
    "print(logregr_L2.intercept_)\n",
    "#pred_y = logregr.predict(test_X)\n",
    "#print(pred_y.shape)\n",
    "#print('\\n Accuracy by admission status')\n",
    "#print(pd.crosstab(pred_y, test_Y))\n",
    "\n",
    "print('\\n Percentage accuracy')\n",
    "print(logregr_L2.score(test_XLR, test_YLR))"
   ]
  },
  {
   "cell_type": "markdown",
   "metadata": {},
   "source": [
    "## L2 regularization after PCA:"
   ]
  },
  {
   "cell_type": "code",
   "execution_count": 249,
   "metadata": {},
   "outputs": [
    {
     "name": "stdout",
     "output_type": "stream",
     "text": [
      "Coefficients\n",
      "[[ 0.41410026  0.25358187  0.08648768 ...  0.54568355 -0.44970464\n",
      "   0.31670083]\n",
      " [ 0.37768515  0.78876411  0.17939797 ... -0.18464087  0.37517053\n",
      "  -0.01695133]\n",
      " [ 0.36937392  0.8486883   0.13002109 ...  0.02026248  1.09947098\n",
      "   0.22185843]\n",
      " ...\n",
      " [ 0.26089293 -0.19329768  0.04577007 ... -0.51790323  0.34396479\n",
      "   0.15684394]\n",
      " [ 0.48888652  0.12036483 -0.20870613 ... -0.10121652 -0.71867337\n",
      "   0.776878  ]\n",
      " [ 0.27345508 -0.10590434 -0.5824131  ...  0.69917006  0.21142587\n",
      "  -0.20760439]]\n"
     ]
    },
    {
     "data": {
      "image/png": "[encoded data removed]",
      "text/plain": [
       "<Figure size 432x288 with 1 Axes>"
      ]
     },
     "metadata": {
      "needs_background": "light"
     },
     "output_type": "display_data"
    },
    {
     "name": "stdout",
     "output_type": "stream",
     "text": [
      "[-6.30643616 -5.81761447 -5.69708413 -6.03862934 -5.46124279 -5.41164287\n",
      " -5.42479492 -5.99611298 -5.66771302 -5.79823691 -5.45366537 -5.45416327\n",
      " -5.91787493 -5.78718477 -5.83133388 -5.04667134 -5.45670767 -5.91923926\n",
      " -5.91904468 -5.45740286 -5.43375451 -5.42873824 -5.8703319  -5.66675061\n",
      " -5.13106511 -5.84332202 -5.78574339 -5.9233233  -7.02640544 -5.45411932\n",
      " -5.57875672 -5.45084024 -5.45525025 -5.84882036 -5.45098933 -5.15470899\n",
      " -5.97729168 -5.91329756 -5.79232445 -5.4590756  -5.65951616 -5.91192969\n",
      " -5.43447933 -5.36373977 -5.4531468  -6.25288522 -5.4455162  -5.65988688\n",
      " -5.82742126 -5.36696411 -5.08972301 -5.91086563 -5.83156368 -5.45429079\n",
      " -5.92400696 -5.44299169 -5.75408144 -5.44257651 -5.44889033 -5.66495885\n",
      " -5.44803776 -5.18218565 -5.66518875 -5.46079948 -5.46763339 -5.08349008\n",
      " -5.74573972 -5.53715511 -6.52589758 -5.29518923 -5.4439523  -5.44704117\n",
      " -5.35649623 -5.67061633 -5.43728177 -5.4590729  -5.92762261 -5.65898021\n",
      " -5.89865538 -5.44269754 -5.44908005 -5.91721071 -5.45209851 -5.45363161\n",
      " -5.78940419 -5.71216303 -5.21538844 -5.88453947 -5.44345558 -5.446348\n",
      " -5.72760443 -5.43996886 -5.7807936  -5.8425587  -5.89123004 -5.44965882\n",
      " -5.79111908 -5.89202423 -5.91574684 -5.66974455 -5.44945185 -5.83171201\n",
      " -5.44085468 -5.71019086 -5.44211222 -5.46109465 -5.54742021 -5.30513492\n",
      " -5.43894822 -4.72746897 -5.66228985 -4.60233899 -5.44079318 -5.44165212\n",
      " -5.22912866 -5.66843616 -5.99741741 -5.63820641 -5.51165515 -5.91645056\n",
      " -5.09271802 -5.1631721  -5.44319658 -5.42226316 -5.71173183 -5.44275442\n",
      " -5.8440646  -5.4359345  -5.766557   -5.46270392 -5.91399893 -5.43814698\n",
      " -5.0561354  -5.43887889 -5.63863305 -5.4417776  -5.83135946 -5.06760359\n",
      " -5.43321718 -5.2933237  -5.47861769 -5.43468889 -5.44306374 -6.18509762\n",
      " -5.68050248 -4.94628405 -5.80464051 -5.46184717 -5.45046773 -5.43889268\n",
      " -5.42970139 -5.84195465 -5.66982459 -5.4387223  -5.43327833 -5.85783808\n",
      " -4.53714068 -5.85117162 -4.70723841 -5.4326694  -4.72653214 -5.42862066\n",
      " -5.46140741 -5.66906773 -5.86650423 -5.66920583 -5.86846413 -5.42841123\n",
      " -5.66935961 -6.25444152 -5.79567398 -5.43699081 -5.45433257 -5.81693213\n",
      " -5.46213933 -5.435345   -5.44849644 -5.68092798 -5.4633484  -5.54944055\n",
      " -5.80390111 -5.85270251 -5.75044972 -5.82914328 -5.43655788 -5.09619651\n",
      " -5.83388961 -5.66827628 -5.91799396 -5.8113041  -5.67211428 -5.66893794\n",
      " -5.46097704 -5.84962227 -5.29571918 -5.45997814 -5.42667234 -5.46099928\n",
      " -5.49504957 -5.6434381  -5.85148665 -5.73876648 -5.59756169 -5.0455845 ]\n",
      "\n",
      " Percentage accuracy\n",
      "0.02857142857142857\n"
     ]
    }
   ],
   "source": [
    "# Declare a logistic regression classifier.\n",
    "# Parameter regularization coefficient C described above. l2 stands for ridge regression regularization. The higher the \n",
    "# C value, the lower the lambda for ridge regression.  In the plain vanilla logistic regression above, our C value was 1e9,\n",
    "# or 1 billion.  Here C will be 10, which will result in a higher lambda value.\n",
    "logregr_L2_pca = LogisticRegression(penalty='l2', C=10)\n",
    "\n",
    "\n",
    "# Fit the model.\n",
    "logregr_L2_pca.fit(train_X_pcaLR, train_Y_pcaLR)\n",
    "\n",
    "# Display.\n",
    "print('Coefficients')\n",
    "print(logregr_L2_pca.coef_)\n",
    "plt.hist(logregr_L2.coef_, bins=5)\n",
    "plt.show()\n",
    "print(logregr_L2_pca.intercept_)\n",
    "#pred_y = logregr.predict(test_X)\n",
    "#print(pred_y.shape)\n",
    "#print('\\n Accuracy by admission status')\n",
    "#print(pd.crosstab(pred_y, test_Y))\n",
    "\n",
    "print('\\n Percentage accuracy')\n",
    "print(logregr_L2_pca.score(test_X_pcaLR, test_Y_pcaLR))"
   ]
  },
  {
   "cell_type": "markdown",
   "metadata": {},
   "source": [
    "## L1 regularization after selectKBest:"
   ]
  },
  {
   "cell_type": "code",
   "execution_count": 238,
   "metadata": {},
   "outputs": [
    {
     "name": "stdout",
     "output_type": "stream",
     "text": [
      "Coefficients\n",
      "[[-6.60593264e-05  2.70330523e-02  0.00000000e+00 ...  0.00000000e+00\n",
      "  -6.15241605e+00  0.00000000e+00]\n",
      " [ 5.22554896e-04 -8.07615180e-01  0.00000000e+00 ...  0.00000000e+00\n",
      "   2.43567759e+00  0.00000000e+00]\n",
      " [ 4.57326372e-04  0.00000000e+00  0.00000000e+00 ... -1.43464173e+00\n",
      "   1.79528550e+00  0.00000000e+00]\n",
      " ...\n",
      " [-4.03631225e-03  2.04475704e-01  0.00000000e+00 ...  0.00000000e+00\n",
      "   0.00000000e+00  0.00000000e+00]\n",
      " [ 2.99162907e-04 -1.27502695e-01  0.00000000e+00 ...  0.00000000e+00\n",
      "   0.00000000e+00  0.00000000e+00]\n",
      " [ 9.57510007e-05 -2.86606150e-02 -8.66809273e-02 ...  2.20235944e+00\n",
      "   0.00000000e+00 -1.17589732e-01]]\n",
      "[  2.1754324   -1.94921726  -2.92632     -0.65581908  -9.18642369\n",
      "  -6.01246904  -6.92523286  -6.59830837  -9.38656256   0.\n",
      "  -8.98976059  -7.90843921  -7.28823646 -10.10040332  -7.12537169\n",
      "  -8.01020768  -6.12818707  -7.84333116  -8.386733   -10.34217456\n",
      "  -6.90099376  -6.64787554 -10.00285509  -8.66869882  -4.0274255\n",
      "  -8.83629078   0.          -5.53529875  -5.37227168  -8.36241242\n",
      "  -5.68069982  -5.62832726  -9.70795228  -8.056313    -7.55779402\n",
      "  -7.01746813  -2.78167151  -5.43341372  -4.50475926 -10.01757838\n",
      "  -3.32315474  -5.03669866  -4.21389268  -5.40386339  -9.72660144\n",
      "  -6.52529319  -5.9834964   -6.07880283  -7.21200132  -7.54167429\n",
      "  -6.34722425 -10.36581965   0.          -7.59473665  -4.87464936\n",
      "  -2.00927058  -5.81016451 -10.33735714  -9.18275161  -6.4866696\n",
      "  -4.88610666  -4.86680053  -8.61253324  -9.36519523  -5.83840249\n",
      "  -5.59527652  -4.70024801  -4.53263057  -0.4895902   -3.59851512\n",
      "  -7.52410115  -6.21431242 -11.44590043  -5.56129332  -6.72728158\n",
      "  -5.35766502  -4.50685425  -5.80627619  -9.51407191  -9.43186557\n",
      "  -8.38933802  -6.85654204  -8.70738064  -4.41899547  -6.36055068\n",
      "   0.          -3.29993052  -1.24608936  -6.49892224  -7.90716008\n",
      "  -3.594778   -10.3826216   -7.736066    -4.43050132  -7.00363504\n",
      "  -9.08525061  -2.36240494  -5.8981449   -5.36909804  -5.74432869\n",
      "  -2.69040129  -5.08945811  -8.97959434  -3.86991496  -9.46035334\n",
      "  -6.67525841  -6.9407407   -9.93774623  -9.53139364  -3.30826414\n",
      "  -5.9560447   -5.84558115  -8.33738629  -7.31700672  -9.35857689\n",
      "  -8.10479542  -9.12028932  -5.31516724  -7.04866816  -3.59744373\n",
      "  -4.14896195  -5.23588055  -8.63107453  -8.64650726  -1.52615111\n",
      "  -9.17321099  -6.6790167   -8.09916809  -5.53196741  -3.15681103\n",
      "  -7.37431658  -9.36433894  -5.10563815  -8.7925794   -2.86543706\n",
      "  -8.52103829 -11.17362112  -8.31003954  -8.74443483  -4.47972018\n",
      " -11.41118587  -7.82111741  -6.26097846  -0.84811387  -6.12517159\n",
      "  -5.70399673  -3.50133673  -9.11753416  -0.24574425 -13.07264253\n",
      "  -6.57522951  -3.05288186  -6.99409196 -10.85643326 -10.38384108\n",
      "  -7.85035786  -5.19831812  -8.38854159  -7.01938874 -10.20136024\n",
      "  -5.36530557  -7.33086461  -8.86739355  -6.32535605  -9.61535223\n",
      "  -7.5861411  -10.19305593  -7.48984597 -10.74853556  -1.87494974\n",
      "  -6.46595319  -6.45613141  -5.28799188  -8.5878766   -4.22733203\n",
      "  -7.81663968  -5.47513745  -2.47391439  -7.38196795  -6.31893244\n",
      "  -2.91094179  -7.97034281  -3.70425795  -9.00887365  -7.51304868\n",
      "  -5.86175689  -7.36211988  -5.03164164  -7.55033929 -10.04975132\n",
      "  -4.27156099 -11.54370168  -9.50816727  -7.56811217  -5.63836991\n",
      "  -4.29458294  -9.03333645  -8.492482    -7.11767212 -11.90380635\n",
      "  -6.47315595  -1.26057016  -7.2527807   -4.972115  ]\n",
      "\n",
      " Percentage accuracy\n",
      "0.02857142857142857\n"
     ]
    }
   ],
   "source": [
    "# Declare a logistic regression classifier.\n",
    "# Parameter regularization coefficient C described above. l2 stands for ridge regression regularization. The higher the \n",
    "# C value, the lower the lambda for ridge regression.  In the plain vanilla logistic regression above, our C value was 1e9,\n",
    "# or 1 billion.  Here C will be 10, which will result in a higher lambda value.\n",
    "logregr_L1 = LogisticRegression(penalty='l1', C=10)\n",
    "\n",
    "\n",
    "# Fit the model.\n",
    "logregr_L1.fit(train_XLR, train_YLR)\n",
    "\n",
    "# Display.\n",
    "print('Coefficients')\n",
    "print(logregr_L1.coef_)\n",
    "print(logregr_L1.intercept_)\n",
    "#pred_y = logregr.predict(test_X)\n",
    "#print(pred_y.shape)\n",
    "#print('\\n Accuracy by admission status')\n",
    "#print(pd.crosstab(pred_y, test_Y))\n",
    "\n",
    "print('\\n Percentage accuracy')\n",
    "print(logregr_L1.score(test_XLR, test_YLR))"
   ]
  },
  {
   "cell_type": "markdown",
   "metadata": {},
   "source": [
    "## L1 regularization after PCA:"
   ]
  },
  {
   "cell_type": "code",
   "execution_count": 239,
   "metadata": {},
   "outputs": [
    {
     "name": "stdout",
     "output_type": "stream",
     "text": [
      "Coefficients\n",
      "[[ 0.          0.          0.         ...  0.64069427  0.\n",
      "   0.01062035]\n",
      " [ 0.          1.24048547  0.         ... -0.03302688  0.31488718\n",
      "  -0.00271756]\n",
      " [ 0.          1.10969606  0.         ...  0.          1.68079683\n",
      "   0.07864299]\n",
      " ...\n",
      " [ 0.205018   -0.39827862  0.05070115 ... -0.9942293   0.29780907\n",
      "   0.        ]\n",
      " [ 0.          0.         -0.15149431 ...  0.         -1.06868046\n",
      "   1.06104539]\n",
      " [ 0.          0.         -1.31237131 ...  0.84345907  0.19570606\n",
      "  -0.20320603]]\n",
      "[ -9.10374842  -7.60408737  -7.08606669  -7.91650935  -6.24478319\n",
      "  -6.09030932  -6.1746699   -7.60518148  -6.81387112  -6.94614131\n",
      "  -6.24283249  -6.24656368  -7.53591974  -7.00108402  -7.35810227\n",
      "  -5.53486363  -6.24279     -7.53493358  -7.53511005  -6.24354353\n",
      "  -6.16449774  -6.16184554  -7.19423437  -6.81372092  -5.60406664\n",
      "  -7.11175666  -7.50825983  -7.4687892  -10.97432115  -6.24430903\n",
      "  -6.72669779  -6.24291594  -6.24496999  -7.12274446  -6.24454368\n",
      "  -5.7853886   -8.04365195  -7.37385591  -7.03503974  -6.24491231\n",
      "  -7.11276825  -7.36448206  -6.2032036   -6.32029675  -6.24553372\n",
      "  -8.6601411   -6.18238209  -7.11262842  -7.35898618  -5.92029558\n",
      "  -5.54736858  -7.35499295  -7.35870614  -6.24370893  -7.61075964\n",
      "  -6.23924045  -7.15537754  -6.24234382  -6.24586931  -6.81357477\n",
      "  -6.24107475  -6.25657546  -6.8135219   -6.1844754   -6.18525099\n",
      "  -5.54738146  -6.91150033  -6.8363538   -9.34378319  -6.09202512\n",
      "  -6.24612172  -6.23933974  -6.34622031  -6.81424311  -6.16957549\n",
      "  -6.24581679  -7.61076475  -7.11247321  -7.26618462  -6.23761509\n",
      "  -6.2482208   -7.66990922  -6.24401471  -6.30622999  -7.04627905\n",
      "  -6.80431831  -6.01735339  -7.20182729  -6.24614721  -6.24915168\n",
      "  -7.25201873  -6.17037446  -7.01861983  -7.41767814  -7.22569994\n",
      "  -6.24639394  -6.95375672  -7.3537731   -7.53563092  -6.81399416\n",
      "  -6.23905984  -7.35856258  -6.2408356   -7.01086927  -6.18262869\n",
      "  -6.20267608  -6.47969916  -6.2196789   -6.24925623  -4.90748653\n",
      "  -6.81249692  -4.86948438  -6.20137849  -6.23910458  -6.03984658\n",
      "  -6.84601989  -7.60519903  -7.00540481  -6.36285057  -7.61610795\n",
      "  -5.65339197  -5.95818962  -6.18292797  -6.16682165  -7.01073173\n",
      "  -6.24397723  -7.10983673  -6.23472953  -6.97910489  -6.63292903\n",
      "  -7.53723017  -6.23869944  -5.53391489  -6.23736478  -7.00369008\n",
      "  -6.24725486  -7.35825688  -5.67413108  -6.23916491  -6.09233767\n",
      "  -6.22995389  -6.23822752  -6.24124817  -8.52939765  -6.84736977\n",
      "  -5.49897839  -6.9735259   -6.24505711  -6.24959483  -6.24893651\n",
      "  -6.23235622  -7.10888541  -6.81386146  -6.24737075  -6.24368244\n",
      "  -7.13463825  -5.56974929  -7.12595079  -5.01846898  -6.23698803\n",
      "  -5.30631501  -6.22667466  -6.24667295  -6.81359964  -7.15271771\n",
      "  -6.81364615  -7.15736425  -6.2321492   -6.81393462  -8.65906807\n",
      "  -6.96865269  -6.24733332  -6.38999707  -7.03500442  -6.24319224\n",
      "  -6.23975027  -6.24531048  -6.84738847  -6.24461682  -6.66780848\n",
      "  -7.07220344  -7.1294008   -7.27675443  -7.35800632  -6.24171112\n",
      "  -5.65706535  -7.02552168  -6.81362736  -7.53525915  -6.98118896\n",
      "  -6.84723874  -6.81400315  -6.24603541  -7.12489066  -6.09223635\n",
      "  -6.24232497  -6.18575146  -6.24536317  -6.47667907  -6.84013915\n",
      "  -7.12624962  -6.88364091  -6.61951135  -5.53451753]\n",
      "\n",
      " Percentage accuracy\n",
      "0.02857142857142857\n"
     ]
    }
   ],
   "source": [
    "# Declare a logistic regression classifier.\n",
    "# Parameter regularization coefficient C described above. l2 stands for ridge regression regularization. The higher the \n",
    "# C value, the lower the lambda for ridge regression.  In the plain vanilla logistic regression above, our C value was 1e9,\n",
    "# or 1 billion.  Here C will be 10, which will result in a higher lambda value.\n",
    "logregr_L1_pca = LogisticRegression(penalty='l1', C=10)\n",
    "\n",
    "\n",
    "# Fit the model.\n",
    "logregr_L1_pca.fit(train_X_pcaLR, train_Y_pcaLR)\n",
    "\n",
    "# Display.\n",
    "print('Coefficients')\n",
    "print(logregr_L1_pca.coef_)\n",
    "print(logregr_L1_pca.intercept_)\n",
    "#pred_y = logregr.predict(test_X)\n",
    "#print(pred_y.shape)\n",
    "#print('\\n Accuracy by admission status')\n",
    "#print(pd.crosstab(pred_y, test_Y))\n",
    "\n",
    "print('\\n Percentage accuracy')\n",
    "print(logregr_L1_pca.score(test_X_pcaLR, test_Y_pcaLR))"
   ]
  }
 ],
 "metadata": {
  "kernelspec": {
   "display_name": "Python 3",
   "language": "python",
   "name": "python3"
  },
  "language_info": {
   "codemirror_mode": {
    "name": "ipython",
    "version": 3
   },
   "file_extension": ".py",
   "mimetype": "text/x-python",
   "name": "python",
   "nbconvert_exporter": "python",
   "pygments_lexer": "ipython3",
   "version": "3.7.0"
  }
 },
 "nbformat": 4,
 "nbformat_minor": 2
}
